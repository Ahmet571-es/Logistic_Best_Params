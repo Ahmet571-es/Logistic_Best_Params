{
 "cells": [
  {
   "cell_type": "code",
   "execution_count": 1,
   "id": "d664c216",
   "metadata": {},
   "outputs": [],
   "source": [
    "import numpy as np\n",
    "import pandas as pd\n",
    "import seaborn as sns\n",
    "import matplotlib.pyplot as plt\n",
    "\n",
    "#%matplotlib inline\n",
    "#%matplotlib notebook\n",
    "plt.rcParams[\"figure.figsize\"] = (10,6)\n",
    "import warnings\n",
    "warnings.filterwarnings(\"ignore\")\n",
    "warnings.warn(\"this will not show\")\n",
    "pd.set_option('display.float_format', lambda x: '%.3f' % x)\n",
    "pd.options.display.float_format = '{:.3f}'.format"
   ]
  },
  {
   "cell_type": "code",
   "execution_count": 2,
   "id": "92078c47",
   "metadata": {},
   "outputs": [
    {
     "data": {
      "text/html": [
       "<div>\n",
       "<style scoped>\n",
       "    .dataframe tbody tr th:only-of-type {\n",
       "        vertical-align: middle;\n",
       "    }\n",
       "\n",
       "    .dataframe tbody tr th {\n",
       "        vertical-align: top;\n",
       "    }\n",
       "\n",
       "    .dataframe thead th {\n",
       "        text-align: right;\n",
       "    }\n",
       "</style>\n",
       "<table border=\"1\" class=\"dataframe\">\n",
       "  <thead>\n",
       "    <tr style=\"text-align: right;\">\n",
       "      <th></th>\n",
       "      <th>Pregnancies</th>\n",
       "      <th>Glucose</th>\n",
       "      <th>BloodPressure</th>\n",
       "      <th>SkinThickness</th>\n",
       "      <th>Insulin</th>\n",
       "      <th>BMI</th>\n",
       "      <th>DiabetesPedigreeFunction</th>\n",
       "      <th>Age</th>\n",
       "      <th>Outcome</th>\n",
       "    </tr>\n",
       "  </thead>\n",
       "  <tbody>\n",
       "    <tr>\n",
       "      <th>0</th>\n",
       "      <td>6</td>\n",
       "      <td>148</td>\n",
       "      <td>72</td>\n",
       "      <td>35</td>\n",
       "      <td>0</td>\n",
       "      <td>33.600</td>\n",
       "      <td>0.627</td>\n",
       "      <td>50</td>\n",
       "      <td>1</td>\n",
       "    </tr>\n",
       "    <tr>\n",
       "      <th>1</th>\n",
       "      <td>1</td>\n",
       "      <td>85</td>\n",
       "      <td>66</td>\n",
       "      <td>29</td>\n",
       "      <td>0</td>\n",
       "      <td>26.600</td>\n",
       "      <td>0.351</td>\n",
       "      <td>31</td>\n",
       "      <td>0</td>\n",
       "    </tr>\n",
       "    <tr>\n",
       "      <th>2</th>\n",
       "      <td>8</td>\n",
       "      <td>183</td>\n",
       "      <td>64</td>\n",
       "      <td>0</td>\n",
       "      <td>0</td>\n",
       "      <td>23.300</td>\n",
       "      <td>0.672</td>\n",
       "      <td>32</td>\n",
       "      <td>1</td>\n",
       "    </tr>\n",
       "    <tr>\n",
       "      <th>3</th>\n",
       "      <td>1</td>\n",
       "      <td>89</td>\n",
       "      <td>66</td>\n",
       "      <td>23</td>\n",
       "      <td>94</td>\n",
       "      <td>28.100</td>\n",
       "      <td>0.167</td>\n",
       "      <td>21</td>\n",
       "      <td>0</td>\n",
       "    </tr>\n",
       "    <tr>\n",
       "      <th>4</th>\n",
       "      <td>0</td>\n",
       "      <td>137</td>\n",
       "      <td>40</td>\n",
       "      <td>35</td>\n",
       "      <td>168</td>\n",
       "      <td>43.100</td>\n",
       "      <td>2.288</td>\n",
       "      <td>33</td>\n",
       "      <td>1</td>\n",
       "    </tr>\n",
       "  </tbody>\n",
       "</table>\n",
       "</div>"
      ],
      "text/plain": [
       "   Pregnancies  Glucose  BloodPressure  SkinThickness  Insulin    BMI  \\\n",
       "0            6      148             72             35        0 33.600   \n",
       "1            1       85             66             29        0 26.600   \n",
       "2            8      183             64              0        0 23.300   \n",
       "3            1       89             66             23       94 28.100   \n",
       "4            0      137             40             35      168 43.100   \n",
       "\n",
       "   DiabetesPedigreeFunction  Age  Outcome  \n",
       "0                     0.627   50        1  \n",
       "1                     0.351   31        0  \n",
       "2                     0.672   32        1  \n",
       "3                     0.167   21        0  \n",
       "4                     2.288   33        1  "
      ]
     },
     "execution_count": 2,
     "metadata": {},
     "output_type": "execute_result"
    }
   ],
   "source": [
    "df=pd.read_csv(\"diabetes.csv\")\n",
    "df.head()\n",
    "# 1 ler şeker hastası 0 lar sağlıklı."
   ]
  },
  {
   "cell_type": "code",
   "execution_count": 3,
   "id": "d16ad8e8",
   "metadata": {},
   "outputs": [
    {
     "name": "stdout",
     "output_type": "stream",
     "text": [
      "<class 'pandas.core.frame.DataFrame'>\n",
      "RangeIndex: 768 entries, 0 to 767\n",
      "Data columns (total 9 columns):\n",
      " #   Column                    Non-Null Count  Dtype  \n",
      "---  ------                    --------------  -----  \n",
      " 0   Pregnancies               768 non-null    int64  \n",
      " 1   Glucose                   768 non-null    int64  \n",
      " 2   BloodPressure             768 non-null    int64  \n",
      " 3   SkinThickness             768 non-null    int64  \n",
      " 4   Insulin                   768 non-null    int64  \n",
      " 5   BMI                       768 non-null    float64\n",
      " 6   DiabetesPedigreeFunction  768 non-null    float64\n",
      " 7   Age                       768 non-null    int64  \n",
      " 8   Outcome                   768 non-null    int64  \n",
      "dtypes: float64(2), int64(7)\n",
      "memory usage: 54.1 KB\n"
     ]
    }
   ],
   "source": [
    "df.info()"
   ]
  },
  {
   "cell_type": "code",
   "execution_count": 4,
   "id": "7e142ceb",
   "metadata": {},
   "outputs": [
    {
     "data": {
      "text/html": [
       "<div>\n",
       "<style scoped>\n",
       "    .dataframe tbody tr th:only-of-type {\n",
       "        vertical-align: middle;\n",
       "    }\n",
       "\n",
       "    .dataframe tbody tr th {\n",
       "        vertical-align: top;\n",
       "    }\n",
       "\n",
       "    .dataframe thead th {\n",
       "        text-align: right;\n",
       "    }\n",
       "</style>\n",
       "<table border=\"1\" class=\"dataframe\">\n",
       "  <thead>\n",
       "    <tr style=\"text-align: right;\">\n",
       "      <th></th>\n",
       "      <th>count</th>\n",
       "      <th>mean</th>\n",
       "      <th>std</th>\n",
       "      <th>min</th>\n",
       "      <th>25%</th>\n",
       "      <th>50%</th>\n",
       "      <th>75%</th>\n",
       "      <th>max</th>\n",
       "    </tr>\n",
       "  </thead>\n",
       "  <tbody>\n",
       "    <tr>\n",
       "      <th>Pregnancies</th>\n",
       "      <td>768.000</td>\n",
       "      <td>3.845</td>\n",
       "      <td>3.370</td>\n",
       "      <td>0.000</td>\n",
       "      <td>1.000</td>\n",
       "      <td>3.000</td>\n",
       "      <td>6.000</td>\n",
       "      <td>17.000</td>\n",
       "    </tr>\n",
       "    <tr>\n",
       "      <th>Glucose</th>\n",
       "      <td>768.000</td>\n",
       "      <td>120.895</td>\n",
       "      <td>31.973</td>\n",
       "      <td>0.000</td>\n",
       "      <td>99.000</td>\n",
       "      <td>117.000</td>\n",
       "      <td>140.250</td>\n",
       "      <td>199.000</td>\n",
       "    </tr>\n",
       "    <tr>\n",
       "      <th>BloodPressure</th>\n",
       "      <td>768.000</td>\n",
       "      <td>69.105</td>\n",
       "      <td>19.356</td>\n",
       "      <td>0.000</td>\n",
       "      <td>62.000</td>\n",
       "      <td>72.000</td>\n",
       "      <td>80.000</td>\n",
       "      <td>122.000</td>\n",
       "    </tr>\n",
       "    <tr>\n",
       "      <th>SkinThickness</th>\n",
       "      <td>768.000</td>\n",
       "      <td>20.536</td>\n",
       "      <td>15.952</td>\n",
       "      <td>0.000</td>\n",
       "      <td>0.000</td>\n",
       "      <td>23.000</td>\n",
       "      <td>32.000</td>\n",
       "      <td>99.000</td>\n",
       "    </tr>\n",
       "    <tr>\n",
       "      <th>Insulin</th>\n",
       "      <td>768.000</td>\n",
       "      <td>79.799</td>\n",
       "      <td>115.244</td>\n",
       "      <td>0.000</td>\n",
       "      <td>0.000</td>\n",
       "      <td>30.500</td>\n",
       "      <td>127.250</td>\n",
       "      <td>846.000</td>\n",
       "    </tr>\n",
       "    <tr>\n",
       "      <th>BMI</th>\n",
       "      <td>768.000</td>\n",
       "      <td>31.993</td>\n",
       "      <td>7.884</td>\n",
       "      <td>0.000</td>\n",
       "      <td>27.300</td>\n",
       "      <td>32.000</td>\n",
       "      <td>36.600</td>\n",
       "      <td>67.100</td>\n",
       "    </tr>\n",
       "    <tr>\n",
       "      <th>DiabetesPedigreeFunction</th>\n",
       "      <td>768.000</td>\n",
       "      <td>0.472</td>\n",
       "      <td>0.331</td>\n",
       "      <td>0.078</td>\n",
       "      <td>0.244</td>\n",
       "      <td>0.372</td>\n",
       "      <td>0.626</td>\n",
       "      <td>2.420</td>\n",
       "    </tr>\n",
       "    <tr>\n",
       "      <th>Age</th>\n",
       "      <td>768.000</td>\n",
       "      <td>33.241</td>\n",
       "      <td>11.760</td>\n",
       "      <td>21.000</td>\n",
       "      <td>24.000</td>\n",
       "      <td>29.000</td>\n",
       "      <td>41.000</td>\n",
       "      <td>81.000</td>\n",
       "    </tr>\n",
       "    <tr>\n",
       "      <th>Outcome</th>\n",
       "      <td>768.000</td>\n",
       "      <td>0.349</td>\n",
       "      <td>0.477</td>\n",
       "      <td>0.000</td>\n",
       "      <td>0.000</td>\n",
       "      <td>0.000</td>\n",
       "      <td>1.000</td>\n",
       "      <td>1.000</td>\n",
       "    </tr>\n",
       "  </tbody>\n",
       "</table>\n",
       "</div>"
      ],
      "text/plain": [
       "                           count    mean     std    min    25%     50%  \\\n",
       "Pregnancies              768.000   3.845   3.370  0.000  1.000   3.000   \n",
       "Glucose                  768.000 120.895  31.973  0.000 99.000 117.000   \n",
       "BloodPressure            768.000  69.105  19.356  0.000 62.000  72.000   \n",
       "SkinThickness            768.000  20.536  15.952  0.000  0.000  23.000   \n",
       "Insulin                  768.000  79.799 115.244  0.000  0.000  30.500   \n",
       "BMI                      768.000  31.993   7.884  0.000 27.300  32.000   \n",
       "DiabetesPedigreeFunction 768.000   0.472   0.331  0.078  0.244   0.372   \n",
       "Age                      768.000  33.241  11.760 21.000 24.000  29.000   \n",
       "Outcome                  768.000   0.349   0.477  0.000  0.000   0.000   \n",
       "\n",
       "                             75%     max  \n",
       "Pregnancies                6.000  17.000  \n",
       "Glucose                  140.250 199.000  \n",
       "BloodPressure             80.000 122.000  \n",
       "SkinThickness             32.000  99.000  \n",
       "Insulin                  127.250 846.000  \n",
       "BMI                       36.600  67.100  \n",
       "DiabetesPedigreeFunction   0.626   2.420  \n",
       "Age                       41.000  81.000  \n",
       "Outcome                    1.000   1.000  "
      ]
     },
     "execution_count": 4,
     "metadata": {},
     "output_type": "execute_result"
    }
   ],
   "source": [
    "df.describe().T"
   ]
  },
  {
   "cell_type": "code",
   "execution_count": 5,
   "id": "5b8bb26f",
   "metadata": {},
   "outputs": [
    {
     "data": {
      "text/plain": [
       "0    500\n",
       "1    268\n",
       "Name: Outcome, dtype: int64"
      ]
     },
     "execution_count": 5,
     "metadata": {},
     "output_type": "execute_result"
    }
   ],
   "source": [
    "df.Outcome.value_counts()\n",
    "# data da biraz ınbalanced durumu var."
   ]
  },
  {
   "cell_type": "code",
   "execution_count": 6,
   "id": "88af5fae",
   "metadata": {},
   "outputs": [
    {
     "data": {
      "image/png": "[encoded data removed]",
      "text/plain": [
       "<Figure size 1440x1440 with 9 Axes>"
      ]
     },
     "metadata": {
      "needs_background": "light"
     },
     "output_type": "display_data"
    }
   ],
   "source": [
    "index = 0\n",
    "plt.figure(figsize=(20,20))\n",
    "for i in df.select_dtypes([float, int]).columns:\n",
    "    index += 1\n",
    "    plt.subplot(3,3,index)\n",
    "    sns.boxplot(df.select_dtypes([float, int])[i], whis=3.0)\n",
    "    Q1 = df[i].quantile(0.25)\n",
    "    Q3 = df[i].quantile(0.75)\n",
    "    IQR = Q3-Q1\n",
    "    alt_sinir = Q1-(3.0*IQR)\n",
    "    ust_sinir = Q3+(3.0*IQR)\n",
    "    #print(f\"{i} sutununun alt sınır değeri = {alt_sinir}\")\n",
    "    #print(f\"{i} sutununun üst sınır değeri = {ust_sinir}\")\n",
    "    aykiri_alt = df[i] < alt_sinir\n",
    "    aykiri_ust = df[i] > ust_sinir\n",
    "    #print(i, \"tablosunda toplamda =\", df[i][aykiri_alt].count(),\"aykırı alt veri vardır.\")\n",
    "    #print(i, \"tablosunda toplamda =\",df[i][aykiri_ust].count(), \"aykırı üst veri vardır.\")\n",
    "    df[i][aykiri_alt] = alt_sinir\n",
    "    df[i][aykiri_ust] = ust_sinir"
   ]
  },
  {
   "cell_type": "code",
   "execution_count": null,
   "id": "dc0b3d1c",
   "metadata": {},
   "outputs": [],
   "source": []
  },
  {
   "cell_type": "code",
   "execution_count": 7,
   "id": "7119929e",
   "metadata": {},
   "outputs": [
    {
     "data": {
      "image/png": "[encoded data removed]",
      "text/plain": [
       "<Figure size 1440x1440 with 8 Axes>"
      ]
     },
     "metadata": {
      "needs_background": "light"
     },
     "output_type": "display_data"
    }
   ],
   "source": [
    "index = 0\n",
    "plt.figure(figsize=(20,20))\n",
    "for feature in df.columns:\n",
    "    if feature != \"Outcome\":\n",
    "        index += 1\n",
    "        plt.subplot(3,3,index)\n",
    "        sns.boxplot(x='Outcome',y=feature,data=df)\n",
    "        # 1 hasta olanlar ile 0 hasta olmayanlar arasında ki değerlere baktık."
   ]
  },
  {
   "cell_type": "code",
   "execution_count": 8,
   "id": "a20aeb51",
   "metadata": {},
   "outputs": [
    {
     "data": {
      "text/plain": [
       "BloodPressure              0.074\n",
       "SkinThickness              0.075\n",
       "Insulin                    0.133\n",
       "DiabetesPedigreeFunction   0.174\n",
       "Pregnancies                0.222\n",
       "Age                        0.238\n",
       "BMI                        0.293\n",
       "Glucose                    0.467\n",
       "Name: Outcome, dtype: float64"
      ]
     },
     "execution_count": 8,
     "metadata": {},
     "output_type": "execute_result"
    }
   ],
   "source": [
    "df.corr()[\"Outcome\"].drop(\"Outcome\").sort_values()"
   ]
  },
  {
   "cell_type": "code",
   "execution_count": 9,
   "id": "1399e8a0",
   "metadata": {},
   "outputs": [
    {
     "data": {
      "text/plain": [
       "<AxesSubplot:>"
      ]
     },
     "execution_count": 9,
     "metadata": {},
     "output_type": "execute_result"
    },
    {
     "data": {
      "image/png": "[encoded data removed]",
      "text/plain": [
       "<Figure size 720x432 with 1 Axes>"
      ]
     },
     "metadata": {
      "needs_background": "light"
     },
     "output_type": "display_data"
    }
   ],
   "source": [
    "df.corr()[\"Outcome\"].drop(\"Outcome\").sort_values().plot.barh()"
   ]
  },
  {
   "cell_type": "code",
   "execution_count": 10,
   "id": "86c4dcf0",
   "metadata": {},
   "outputs": [
    {
     "data": {
      "text/html": [
       "<div>\n",
       "<style scoped>\n",
       "    .dataframe tbody tr th:only-of-type {\n",
       "        vertical-align: middle;\n",
       "    }\n",
       "\n",
       "    .dataframe tbody tr th {\n",
       "        vertical-align: top;\n",
       "    }\n",
       "\n",
       "    .dataframe thead th {\n",
       "        text-align: right;\n",
       "    }\n",
       "</style>\n",
       "<table border=\"1\" class=\"dataframe\">\n",
       "  <thead>\n",
       "    <tr style=\"text-align: right;\">\n",
       "      <th></th>\n",
       "      <th>Pregnancies</th>\n",
       "      <th>Glucose</th>\n",
       "      <th>BloodPressure</th>\n",
       "      <th>SkinThickness</th>\n",
       "      <th>Insulin</th>\n",
       "      <th>BMI</th>\n",
       "      <th>DiabetesPedigreeFunction</th>\n",
       "      <th>Age</th>\n",
       "      <th>Outcome</th>\n",
       "    </tr>\n",
       "  </thead>\n",
       "  <tbody>\n",
       "    <tr>\n",
       "      <th>Pregnancies</th>\n",
       "      <td>1.000</td>\n",
       "      <td>NaN</td>\n",
       "      <td>NaN</td>\n",
       "      <td>NaN</td>\n",
       "      <td>NaN</td>\n",
       "      <td>NaN</td>\n",
       "      <td>NaN</td>\n",
       "      <td>NaN</td>\n",
       "      <td>NaN</td>\n",
       "    </tr>\n",
       "    <tr>\n",
       "      <th>Glucose</th>\n",
       "      <td>NaN</td>\n",
       "      <td>1.000</td>\n",
       "      <td>NaN</td>\n",
       "      <td>NaN</td>\n",
       "      <td>NaN</td>\n",
       "      <td>NaN</td>\n",
       "      <td>NaN</td>\n",
       "      <td>NaN</td>\n",
       "      <td>NaN</td>\n",
       "    </tr>\n",
       "    <tr>\n",
       "      <th>BloodPressure</th>\n",
       "      <td>NaN</td>\n",
       "      <td>NaN</td>\n",
       "      <td>1.000</td>\n",
       "      <td>NaN</td>\n",
       "      <td>NaN</td>\n",
       "      <td>NaN</td>\n",
       "      <td>NaN</td>\n",
       "      <td>NaN</td>\n",
       "      <td>NaN</td>\n",
       "    </tr>\n",
       "    <tr>\n",
       "      <th>SkinThickness</th>\n",
       "      <td>NaN</td>\n",
       "      <td>NaN</td>\n",
       "      <td>NaN</td>\n",
       "      <td>1.000</td>\n",
       "      <td>NaN</td>\n",
       "      <td>NaN</td>\n",
       "      <td>NaN</td>\n",
       "      <td>NaN</td>\n",
       "      <td>NaN</td>\n",
       "    </tr>\n",
       "    <tr>\n",
       "      <th>Insulin</th>\n",
       "      <td>NaN</td>\n",
       "      <td>NaN</td>\n",
       "      <td>NaN</td>\n",
       "      <td>NaN</td>\n",
       "      <td>1.000</td>\n",
       "      <td>NaN</td>\n",
       "      <td>NaN</td>\n",
       "      <td>NaN</td>\n",
       "      <td>NaN</td>\n",
       "    </tr>\n",
       "    <tr>\n",
       "      <th>BMI</th>\n",
       "      <td>NaN</td>\n",
       "      <td>NaN</td>\n",
       "      <td>NaN</td>\n",
       "      <td>NaN</td>\n",
       "      <td>NaN</td>\n",
       "      <td>1.000</td>\n",
       "      <td>NaN</td>\n",
       "      <td>NaN</td>\n",
       "      <td>NaN</td>\n",
       "    </tr>\n",
       "    <tr>\n",
       "      <th>DiabetesPedigreeFunction</th>\n",
       "      <td>NaN</td>\n",
       "      <td>NaN</td>\n",
       "      <td>NaN</td>\n",
       "      <td>NaN</td>\n",
       "      <td>NaN</td>\n",
       "      <td>NaN</td>\n",
       "      <td>1.000</td>\n",
       "      <td>NaN</td>\n",
       "      <td>NaN</td>\n",
       "    </tr>\n",
       "    <tr>\n",
       "      <th>Age</th>\n",
       "      <td>NaN</td>\n",
       "      <td>NaN</td>\n",
       "      <td>NaN</td>\n",
       "      <td>NaN</td>\n",
       "      <td>NaN</td>\n",
       "      <td>NaN</td>\n",
       "      <td>NaN</td>\n",
       "      <td>1.000</td>\n",
       "      <td>NaN</td>\n",
       "    </tr>\n",
       "    <tr>\n",
       "      <th>Outcome</th>\n",
       "      <td>NaN</td>\n",
       "      <td>NaN</td>\n",
       "      <td>NaN</td>\n",
       "      <td>NaN</td>\n",
       "      <td>NaN</td>\n",
       "      <td>NaN</td>\n",
       "      <td>NaN</td>\n",
       "      <td>NaN</td>\n",
       "      <td>1.000</td>\n",
       "    </tr>\n",
       "  </tbody>\n",
       "</table>\n",
       "</div>"
      ],
      "text/plain": [
       "                          Pregnancies  Glucose  BloodPressure  SkinThickness  \\\n",
       "Pregnancies                     1.000      NaN            NaN            NaN   \n",
       "Glucose                           NaN    1.000            NaN            NaN   \n",
       "BloodPressure                     NaN      NaN          1.000            NaN   \n",
       "SkinThickness                     NaN      NaN            NaN          1.000   \n",
       "Insulin                           NaN      NaN            NaN            NaN   \n",
       "BMI                               NaN      NaN            NaN            NaN   \n",
       "DiabetesPedigreeFunction          NaN      NaN            NaN            NaN   \n",
       "Age                               NaN      NaN            NaN            NaN   \n",
       "Outcome                           NaN      NaN            NaN            NaN   \n",
       "\n",
       "                          Insulin   BMI  DiabetesPedigreeFunction   Age  \\\n",
       "Pregnancies                   NaN   NaN                       NaN   NaN   \n",
       "Glucose                       NaN   NaN                       NaN   NaN   \n",
       "BloodPressure                 NaN   NaN                       NaN   NaN   \n",
       "SkinThickness                 NaN   NaN                       NaN   NaN   \n",
       "Insulin                     1.000   NaN                       NaN   NaN   \n",
       "BMI                           NaN 1.000                       NaN   NaN   \n",
       "DiabetesPedigreeFunction      NaN   NaN                     1.000   NaN   \n",
       "Age                           NaN   NaN                       NaN 1.000   \n",
       "Outcome                       NaN   NaN                       NaN   NaN   \n",
       "\n",
       "                          Outcome  \n",
       "Pregnancies                   NaN  \n",
       "Glucose                       NaN  \n",
       "BloodPressure                 NaN  \n",
       "SkinThickness                 NaN  \n",
       "Insulin                       NaN  \n",
       "BMI                           NaN  \n",
       "DiabetesPedigreeFunction      NaN  \n",
       "Age                           NaN  \n",
       "Outcome                     1.000  "
      ]
     },
     "execution_count": 10,
     "metadata": {},
     "output_type": "execute_result"
    }
   ],
   "source": [
    "multi = df.corr()\n",
    "multi[multi > 0.75]\n",
    "# Multicolinarty Yok."
   ]
  },
  {
   "cell_type": "markdown",
   "id": "acb0cbd8",
   "metadata": {},
   "source": [
    "## Train Test Spilt : "
   ]
  },
  {
   "cell_type": "code",
   "execution_count": 11,
   "id": "f627bf1d",
   "metadata": {},
   "outputs": [],
   "source": [
    "X=df.drop([\"Outcome\"], axis=1)\n",
    "y=df[\"Outcome\"]"
   ]
  },
  {
   "cell_type": "code",
   "execution_count": 12,
   "id": "ec898ade",
   "metadata": {},
   "outputs": [],
   "source": [
    "from sklearn.linear_model import LogisticRegression\n",
    "from sklearn.model_selection import train_test_split\n",
    "from sklearn.preprocessing import StandardScaler"
   ]
  },
  {
   "cell_type": "code",
   "execution_count": 13,
   "id": "32677424",
   "metadata": {},
   "outputs": [],
   "source": [
    "X_train, X_test, y_train, y_test = train_test_split(X, y, test_size=0.20, stratify=y, random_state=42)\n",
    "# stratify = y diyerek hasta olanlar ve olmayanlar arasında ki dengesizliği ortadan kaldırmak için."
   ]
  },
  {
   "cell_type": "markdown",
   "id": "c922ae75",
   "metadata": {},
   "source": [
    "### Default Values Model : "
   ]
  },
  {
   "cell_type": "code",
   "execution_count": 14,
   "id": "e17a1cda",
   "metadata": {},
   "outputs": [],
   "source": [
    "scaler = StandardScaler()\n",
    "X_train_scaled = scaler.fit_transform(X_train)\n",
    "X_test_scaled = scaler.transform(X_test)\n",
    "log_model=LogisticRegression()\n",
    "log_model.fit(X_train_scaled, y_train)\n",
    "y_pred = log_model.predict(X_test_scaled)\n",
    "y_pred_proba = log_model.predict_proba(X_test_scaled)"
   ]
  },
  {
   "cell_type": "markdown",
   "id": "85fadb58",
   "metadata": {},
   "source": [
    "### Error Metrics : "
   ]
  },
  {
   "cell_type": "code",
   "execution_count": 15,
   "id": "b8cc1902",
   "metadata": {},
   "outputs": [],
   "source": [
    "from sklearn.metrics import accuracy_score, precision_score, recall_score, f1_score"
   ]
  },
  {
   "cell_type": "code",
   "execution_count": 16,
   "id": "771ddb7c",
   "metadata": {},
   "outputs": [
    {
     "data": {
      "text/plain": [
       "0.7207792207792207"
      ]
     },
     "execution_count": 16,
     "metadata": {},
     "output_type": "execute_result"
    }
   ],
   "source": [
    "accuracy_score(y_test, y_pred)"
   ]
  },
  {
   "cell_type": "code",
   "execution_count": 17,
   "id": "ffce222f",
   "metadata": {},
   "outputs": [
    {
     "data": {
      "text/plain": [
       "0.6222222222222222"
      ]
     },
     "execution_count": 17,
     "metadata": {},
     "output_type": "execute_result"
    }
   ],
   "source": [
    "precision_score(y_test, y_pred)\n",
    "# 1 olan tahmin ettiklerimizi doğru bilme oranı"
   ]
  },
  {
   "cell_type": "code",
   "execution_count": 18,
   "id": "60dccbf9",
   "metadata": {},
   "outputs": [
    {
     "data": {
      "text/plain": [
       "0.5185185185185185"
      ]
     },
     "execution_count": 18,
     "metadata": {},
     "output_type": "execute_result"
    }
   ],
   "source": [
    "recall_score(y_test, y_pred)\n",
    "# tüm 1 olan değerleri doğru bilme başarımız."
   ]
  },
  {
   "cell_type": "code",
   "execution_count": 19,
   "id": "266af335",
   "metadata": {},
   "outputs": [
    {
     "data": {
      "text/plain": [
       "0.5656565656565656"
      ]
     },
     "execution_count": 19,
     "metadata": {},
     "output_type": "execute_result"
    }
   ],
   "source": [
    "f1_score(y_test, y_pred)\n",
    "# precision ve recall skor harmonik ortalaması "
   ]
  },
  {
   "cell_type": "code",
   "execution_count": 20,
   "id": "52915e45",
   "metadata": {},
   "outputs": [],
   "source": [
    "from sklearn.metrics import confusion_matrix, classification_report"
   ]
  },
  {
   "cell_type": "code",
   "execution_count": 21,
   "id": "7a6d0f35",
   "metadata": {},
   "outputs": [],
   "source": [
    "def eval_metric(model, X_train, y_train, X_test, y_test):\n",
    "    y_train_pred = model.predict(X_train)\n",
    "    y_pred = model.predict(X_test)\n",
    "    \n",
    "    print(\"Test_Set\")\n",
    "    print(confusion_matrix(y_test, y_pred))\n",
    "    print(classification_report(y_test, y_pred))\n",
    "    print()\n",
    "    print(\"Train_Set\")\n",
    "    print(confusion_matrix(y_train, y_train_pred))\n",
    "    print(classification_report(y_train, y_train_pred))\n",
    "    # bir eval metrik fonksiyonu oluşturduk. çok kullanışlı."
   ]
  },
  {
   "cell_type": "code",
   "execution_count": 22,
   "id": "f204c736",
   "metadata": {},
   "outputs": [
    {
     "name": "stdout",
     "output_type": "stream",
     "text": [
      "Test_Set\n",
      "[[83 17]\n",
      " [26 28]]\n",
      "              precision    recall  f1-score   support\n",
      "\n",
      "           0       0.76      0.83      0.79       100\n",
      "           1       0.62      0.52      0.57        54\n",
      "\n",
      "    accuracy                           0.72       154\n",
      "   macro avg       0.69      0.67      0.68       154\n",
      "weighted avg       0.71      0.72      0.71       154\n",
      "\n",
      "\n",
      "Train_Set\n",
      "[[360  40]\n",
      " [ 87 127]]\n",
      "              precision    recall  f1-score   support\n",
      "\n",
      "           0       0.81      0.90      0.85       400\n",
      "           1       0.76      0.59      0.67       214\n",
      "\n",
      "    accuracy                           0.79       614\n",
      "   macro avg       0.78      0.75      0.76       614\n",
      "weighted avg       0.79      0.79      0.79       614\n",
      "\n"
     ]
    }
   ],
   "source": [
    "eval_metric(log_model,X_train_scaled, y_train, X_test_scaled, y_test )\n",
    "# ınbalandec durumu göze çarpmakta. hafif overfitng durumu da var. skorları düzeltmeye çalışacağız."
   ]
  },
  {
   "cell_type": "markdown",
   "id": "d7125b30",
   "metadata": {},
   "source": [
    "### Cross Validate : "
   ]
  },
  {
   "cell_type": "code",
   "execution_count": 23,
   "id": "74fc8cb5",
   "metadata": {},
   "outputs": [
    {
     "data": {
      "text/plain": [
       "test_precision   0.745\n",
       "test_recall      0.570\n",
       "test_f1          0.640\n",
       "test_accuracy    0.779\n",
       "dtype: float64"
      ]
     },
     "execution_count": 23,
     "metadata": {},
     "output_type": "execute_result"
    }
   ],
   "source": [
    "from sklearn.model_selection import cross_validate\n",
    "model = LogisticRegression()\n",
    "\n",
    "scores = cross_validate(model, X_train_scaled, y_train, scoring = ['precision','recall','f1','accuracy'], cv = 10)\n",
    "df_scores = pd.DataFrame(scores, index = range(1, 11))\n",
    "df_scores.mean()[2:]\n",
    "# 1 ler için test datasında fark oluştu demekki modelimiz çok sağlıklı bir tahminleme yapamamaktadır. bunlar gerçek skorlarımız"
   ]
  },
  {
   "cell_type": "markdown",
   "id": "49787f3c",
   "metadata": {},
   "source": [
    "### 0 değeri için Cross Validate :"
   ]
  },
  {
   "cell_type": "code",
   "execution_count": 24,
   "id": "5a0ddae0",
   "metadata": {},
   "outputs": [
    {
     "data": {
      "text/plain": [
       "test_precision_0   0.796\n",
       "test_recall_0      0.890\n",
       "test_f1_0          0.839\n",
       "dtype: float64"
      ]
     },
     "execution_count": 24,
     "metadata": {},
     "output_type": "execute_result"
    }
   ],
   "source": [
    "from sklearn.metrics import make_scorer\n",
    "\n",
    "f1_0 = make_scorer(f1_score, pos_label =0)\n",
    "precision_0 = make_scorer(precision_score, pos_label =0)\n",
    "recall_0 = make_scorer(recall_score, pos_label =0)\n",
    "\n",
    "model = LogisticRegression()\n",
    "\n",
    "scores = cross_validate(model, X_train_scaled, y_train,scoring = {\"precision_0\":precision_0, \"recall_0\":recall_0, \"f1_0\":f1_0}, \n",
    "                        cv = 10)\n",
    "\n",
    "df_scores = pd.DataFrame(scores, index = range(1, 11))\n",
    "df_scores.mean()[2:]\n",
    "# 0 için tahmin ettiklerimizin 0 olarak bilinme başarısı: test_precision_0 \n",
    "# tüm 0 değerlerinden başarılı 0 olarak bilme başarımız : test_recall_0"
   ]
  },
  {
   "cell_type": "markdown",
   "id": "2b03fe0a",
   "metadata": {},
   "source": [
    "### GridSearchCV Best Parametres : "
   ]
  },
  {
   "cell_type": "code",
   "execution_count": 25,
   "id": "5457235a",
   "metadata": {},
   "outputs": [],
   "source": [
    "from sklearn.model_selection import GridSearchCV"
   ]
  },
  {
   "cell_type": "markdown",
   "id": "bf09ae45",
   "metadata": {},
   "source": [
    "#### Logistic Regression için önemli parametreler : \n",
    "\n",
    "1. Penalty : l1 = > lasso, l2 => ridge demektir.\n",
    "\n",
    "2. C : Regressionda alpha değerinin karşılığıdır. ama farkı alpha arttıkça train ve test skorları arasında ki fark kapanır. Bias değeri büyür, c parametresinde ise küçüldükçe eklediği bias değeri azalır.\n",
    "\n",
    "3. class_weight : eğer target classında değerler arasında dengesizlik varsa kullanılır. katsayıları kötü olanları ağırlıklandırır. yani eleman sayısı az olanı daha büyük katsayı ile çarpıp fazla olan classı yakalamaya çalışır. örneğin : 8 tane 0, 2 tane 1 olsun o zaman 1 leri 0.8 ile 0 ları 0.2 ile çarpıp yaklaştırır.\n",
    "\n",
    "4. solver : default değeri ile çok oynamamak gerekir. eğer data çok küçükse liblinear, data çok büyükse sag ve saga olabilir. değerleri newton-cg, lbfgs, liblinear, sag, saga dır. "
   ]
  },
  {
   "cell_type": "code",
   "execution_count": 26,
   "id": "87c91830",
   "metadata": {},
   "outputs": [],
   "source": [
    "model = LogisticRegression()\n",
    "\n",
    "penalty = [\"l1\", \"l2\", \"elasticnet\"] \n",
    "\n",
    "C = np.logspace(-1, 5, 20) # genelde c parametresi logspace tavsiye edilir. hangi sayıların log değeri -1 ve 5 arasındadır. 100 tane sayıları bul demek.\n",
    "# default olarak -1,5 tavsiye edilir.\n",
    "\n",
    "class_weight= [\"balanced\", None] # data da bir dengesizlik varsa arada ki dengesizliği giderir.\n",
    "# az olan 1 değeri veya 0 değerine göre daha fazla tahmin yaptırıyor ve recall değerini arttırıyoruz.\n",
    "# burda 1 az onun için recall 1 değerini arttıracaktır.\n",
    "solver = [\"lbfgs\", \"liblinear\", \"sag\", \"saga\"] # defaultu lbfgs dir. çoğu durum için default değer değiştirilmesi önerilmez\n",
    "# çok büyük datalarda sag ve saga iyi, küçük datalarda ise liblinear tavsiye edilir.\n",
    "\n",
    "param_grid = {\"penalty\" : penalty,\n",
    "              \"C\" : C,\n",
    "              \"class_weight\":class_weight,\n",
    "              \"solver\":solver}\n",
    "\n",
    "\n",
    "grid_model = GridSearchCV(estimator=model,\n",
    "                          param_grid=param_grid,\n",
    "                          cv=10,\n",
    "                          scoring = \"recall\", # skor olarak recall al dedik. default olarak 1 olarak hesaplayacak. \n",
    "                          n_jobs = -1)"
   ]
  },
  {
   "cell_type": "code",
   "execution_count": 27,
   "id": "61d63cad",
   "metadata": {},
   "outputs": [
    {
     "data": {
      "text/plain": [
       "GridSearchCV(cv=10, estimator=LogisticRegression(), n_jobs=-1,\n",
       "             param_grid={'C': array([1.00000000e-01, 2.06913808e-01, 4.28133240e-01, 8.85866790e-01,\n",
       "       1.83298071e+00, 3.79269019e+00, 7.84759970e+00, 1.62377674e+01,\n",
       "       3.35981829e+01, 6.95192796e+01, 1.43844989e+02, 2.97635144e+02,\n",
       "       6.15848211e+02, 1.27427499e+03, 2.63665090e+03, 5.45559478e+03,\n",
       "       1.12883789e+04, 2.33572147e+04, 4.83293024e+04, 1.00000000e+05]),\n",
       "                         'class_weight': ['balanced', None],\n",
       "                         'penalty': ['l1', 'l2', 'elasticnet'],\n",
       "                         'solver': ['lbfgs', 'liblinear', 'sag', 'saga']},\n",
       "             scoring='recall')"
      ]
     },
     "execution_count": 27,
     "metadata": {},
     "output_type": "execute_result"
    }
   ],
   "source": [
    "grid_model.fit(X_train_scaled, y_train)"
   ]
  },
  {
   "cell_type": "code",
   "execution_count": 28,
   "id": "2406cc9d",
   "metadata": {},
   "outputs": [
    {
     "data": {
      "text/plain": [
       "{'C': 0.1, 'class_weight': 'balanced', 'penalty': 'l1', 'solver': 'liblinear'}"
      ]
     },
     "execution_count": 28,
     "metadata": {},
     "output_type": "execute_result"
    }
   ],
   "source": [
    "grid_model.best_params_\n",
    "# en iyi değerleri verdi. bu değerler ile tahmin deneyeceğiz."
   ]
  },
  {
   "cell_type": "code",
   "execution_count": 29,
   "id": "9edd5cd2",
   "metadata": {},
   "outputs": [
    {
     "name": "stdout",
     "output_type": "stream",
     "text": [
      "Test_Set\n",
      "[[71 29]\n",
      " [13 41]]\n",
      "              precision    recall  f1-score   support\n",
      "\n",
      "           0       0.85      0.71      0.77       100\n",
      "           1       0.59      0.76      0.66        54\n",
      "\n",
      "    accuracy                           0.73       154\n",
      "   macro avg       0.72      0.73      0.72       154\n",
      "weighted avg       0.75      0.73      0.73       154\n",
      "\n",
      "\n",
      "Train_Set\n",
      "[[303  97]\n",
      " [ 54 160]]\n",
      "              precision    recall  f1-score   support\n",
      "\n",
      "           0       0.85      0.76      0.80       400\n",
      "           1       0.62      0.75      0.68       214\n",
      "\n",
      "    accuracy                           0.75       614\n",
      "   macro avg       0.74      0.75      0.74       614\n",
      "weighted avg       0.77      0.75      0.76       614\n",
      "\n"
     ]
    }
   ],
   "source": [
    "eval_metric(grid_model, X_train_scaled, y_train, X_test_scaled, y_test)\n",
    "# yukarıda recall skoru al dedik. biz bu data özelinde hasta olanları yani 1 değerlerini doğru bilmek istedik."
   ]
  },
  {
   "cell_type": "markdown",
   "id": "035f0f2c",
   "metadata": {},
   "source": [
    "## ROC (Receiver Operating Curve) and AUC (Area Under Curve) :  \n",
    "\n",
    "Olasılıkları grafiksel olarak görüp best threshold değerini belirlemek : "
   ]
  },
  {
   "cell_type": "code",
   "execution_count": 30,
   "id": "5a88589f",
   "metadata": {},
   "outputs": [],
   "source": [
    "from sklearn.metrics import roc_curve, roc_auc_score, plot_roc_curve"
   ]
  },
  {
   "cell_type": "markdown",
   "id": "c8846362",
   "metadata": {},
   "source": [
    "### Default Değerler ile bakalım : "
   ]
  },
  {
   "cell_type": "code",
   "execution_count": 31,
   "id": "aba7c008",
   "metadata": {},
   "outputs": [
    {
     "data": {
      "image/png": "[encoded data removed]",
      "text/plain": [
       "<Figure size 720x432 with 1 Axes>"
      ]
     },
     "metadata": {
      "needs_background": "light"
     },
     "output_type": "display_data"
    }
   ],
   "source": [
    "plot_roc_curve(log_model, X_test_scaled, y_test, pos_label=1);\n",
    "# 1 ler için => 1 olarak tahmin ettiğimiz değerlerin en büyük olduğu yani recall skorunun en yüksek olduğu threshold değeri sol \n",
    "# üst köşeye en yakın olan değeri ve 0 olup 1 olarak tahmin ettiklerimizin en düşük olduğu threshol değeri lazım."
   ]
  },
  {
   "cell_type": "code",
   "execution_count": 32,
   "id": "ee7a34be",
   "metadata": {},
   "outputs": [
    {
     "data": {
      "text/plain": [
       "0.8242592592592592"
      ]
     },
     "execution_count": 32,
     "metadata": {},
     "output_type": "execute_result"
    }
   ],
   "source": [
    "roc_auc_score(y_test, y_pred_proba[:,1])"
   ]
  },
  {
   "cell_type": "markdown",
   "id": "f3f75dc6",
   "metadata": {},
   "source": [
    "### Grid ile parametrelere bakalım : "
   ]
  },
  {
   "cell_type": "code",
   "execution_count": 33,
   "id": "2d446126",
   "metadata": {},
   "outputs": [
    {
     "data": {
      "image/png": "[encoded data removed]",
      "text/plain": [
       "<Figure size 720x432 with 1 Axes>"
      ]
     },
     "metadata": {
      "needs_background": "light"
     },
     "output_type": "display_data"
    }
   ],
   "source": [
    "#y_pred_proba2 = grid_model.predict_proba(X_test_scaled)\n",
    "plot_roc_curve(grid_model, X_test_scaled, y_test);"
   ]
  },
  {
   "cell_type": "code",
   "execution_count": null,
   "id": "14319f1a",
   "metadata": {},
   "outputs": [],
   "source": []
  },
  {
   "cell_type": "markdown",
   "id": "d9884ed5",
   "metadata": {},
   "source": [
    "### Datamız ınbalanced olduğu için : "
   ]
  },
  {
   "cell_type": "code",
   "execution_count": 34,
   "id": "3acbfd75",
   "metadata": {},
   "outputs": [],
   "source": [
    "from sklearn.metrics import plot_precision_recall_curve, precision_recall_curve, average_precision_score"
   ]
  },
  {
   "cell_type": "code",
   "execution_count": 35,
   "id": "3725f499",
   "metadata": {},
   "outputs": [
    {
     "data": {
      "image/png": "[encoded data removed]",
      "text/plain": [
       "<Figure size 720x432 with 1 Axes>"
      ]
     },
     "metadata": {
      "needs_background": "light"
     },
     "output_type": "display_data"
    }
   ],
   "source": [
    "plot_precision_recall_curve(grid_model, X_test_scaled, y_test);\n",
    "# dikkate alacağımız skor 0.67 olacak."
   ]
  },
  {
   "cell_type": "markdown",
   "id": "1f6826e7",
   "metadata": {},
   "source": [
    "## Best Threshold : \n",
    "\n",
    "Default değerler ile yapılan model kullanılır."
   ]
  },
  {
   "cell_type": "code",
   "execution_count": 36,
   "id": "eff23670",
   "metadata": {},
   "outputs": [
    {
     "data": {
      "image/png": "[encoded data removed]",
      "text/plain": [
       "<Figure size 720x432 with 1 Axes>"
      ]
     },
     "metadata": {
      "needs_background": "light"
     },
     "output_type": "display_data"
    }
   ],
   "source": [
    "plot_roc_curve(log_model, X_train_scaled, y_train);\n",
    "# Best thresholu train seti için belirleyeceğiz."
   ]
  },
  {
   "cell_type": "code",
   "execution_count": 38,
   "id": "fa49b0ae",
   "metadata": {},
   "outputs": [
    {
     "data": {
      "text/plain": [
       "0.840806074766355"
      ]
     },
     "execution_count": 38,
     "metadata": {},
     "output_type": "execute_result"
    }
   ],
   "source": [
    "y_pred_proba_tr = log_model.predict_proba(X_train_scaled)\n",
    "roc_auc_score(y_train, y_pred_proba_tr[:,1])\n",
    "# en iyi parametreler ile train setinde ki 1 leri başarı ile tahmin etme durumu.\n",
    "# best threshold belirlerken default parametre kullanılmalı."
   ]
  },
  {
   "cell_type": "code",
   "execution_count": 39,
   "id": "e19ad653",
   "metadata": {},
   "outputs": [
    {
     "data": {
      "text/plain": [
       "0.3481459250269427"
      ]
     },
     "execution_count": 39,
     "metadata": {},
     "output_type": "execute_result"
    }
   ],
   "source": [
    "# biz threshold değerini belirlerken data özelinde :  recall en yüksek, Fp en düşük olduğu threshold değerini bulacağız.\n",
    "fp_rate, tp_rate, thresholds = roc_curve(y_train, y_pred_proba_tr[:,1])\n",
    "# fp_rate = gerçek 0 lara yanlış 1 olarak bildiğimiz değerler.\n",
    "# tp_rate = gerçek 1 leri doğru 1 olarak bildiğimiz değerler.\n",
    "# threshold = bizim 0 ve 1 arasında olasılık değerlerimiz.\n",
    "optimal_idx = np.argmax(tp_rate - fp_rate) \n",
    "# tp_rate - fp_rate değerinin en fazla olduğu indexi bulur. yani en iyi threshold değerinin bulunduğu index.\n",
    "optimal_threshold = thresholds[optimal_idx] # en iyi threshold değerimizin olduğu indexi arraye vererek buluruz.\n",
    "optimal_threshold # en iyi threshold değeri."
   ]
  },
  {
   "cell_type": "code",
   "execution_count": 41,
   "id": "71d9538d",
   "metadata": {},
   "outputs": [
    {
     "data": {
      "text/plain": [
       "0.7427617687820032"
      ]
     },
     "execution_count": 41,
     "metadata": {},
     "output_type": "execute_result"
    }
   ],
   "source": [
    "average_precision_score(y_train, y_pred_proba_tr[:,1])\n",
    "# precision ve recall in aritmetik ortalaması"
   ]
  },
  {
   "cell_type": "code",
   "execution_count": 42,
   "id": "be1b92b2",
   "metadata": {},
   "outputs": [
    {
     "data": {
      "text/plain": [
       "0.3481459250269427"
      ]
     },
     "execution_count": 42,
     "metadata": {},
     "output_type": "execute_result"
    }
   ],
   "source": [
    "# Dengesiz veri seti olduğu için bir de burda hesapladık : \n",
    "\n",
    "precisions, recalls, thresholds = precision_recall_curve(y_train, y_pred_proba_tr[:,1])\n",
    "optimal_idx = np.argmax((2 * precisions * recalls) / (precisions + recalls))\n",
    "optimal_threshold = thresholds[optimal_idx]\n",
    "optimal_threshold"
   ]
  },
  {
   "cell_type": "markdown",
   "id": "03b659ab",
   "metadata": {},
   "source": [
    "### En iyi Threshold ile tahminleme yapalım ama best parametreler kullanılarak : "
   ]
  },
  {
   "cell_type": "code",
   "execution_count": 43,
   "id": "ca555dae",
   "metadata": {},
   "outputs": [],
   "source": [
    "y_pred2 = pd.Series(grid_model.predict_proba(X_test_scaled)[:,1]).apply(lambda x : 1 if x >= optimal_threshold else 0)\n",
    "# burda optimal threshold değerimize göre yeni bir tahminleme de bulunduk. ama proba ile .\n",
    "# burda ki optimal_thrershol bizim ilk log_modelden bulduğumuz thresholddur."
   ]
  },
  {
   "cell_type": "code",
   "execution_count": 44,
   "id": "27d1d6d7",
   "metadata": {},
   "outputs": [
    {
     "name": "stdout",
     "output_type": "stream",
     "text": [
      "[[56 44]\n",
      " [ 4 50]]\n",
      "              precision    recall  f1-score   support\n",
      "\n",
      "           0       0.93      0.56      0.70       100\n",
      "           1       0.53      0.93      0.68        54\n",
      "\n",
      "    accuracy                           0.69       154\n",
      "   macro avg       0.73      0.74      0.69       154\n",
      "weighted avg       0.79      0.69      0.69       154\n",
      "\n"
     ]
    }
   ],
   "source": [
    "print(confusion_matrix(y_test, y_pred2))\n",
    "print(classification_report(y_test, y_pred2))\n",
    "# değerlere bakılınca recall değerimiz çok güzel bir şeklide arttık. ama f1_scorumuzun en iyi değeri ile aldık."
   ]
  },
  {
   "cell_type": "code",
   "execution_count": 45,
   "id": "884adb12",
   "metadata": {},
   "outputs": [
    {
     "name": "stdout",
     "output_type": "stream",
     "text": [
      "[[213 187]\n",
      " [ 20 194]]\n",
      "              precision    recall  f1-score   support\n",
      "\n",
      "           0       0.91      0.53      0.67       400\n",
      "           1       0.51      0.91      0.65       214\n",
      "\n",
      "    accuracy                           0.66       614\n",
      "   macro avg       0.71      0.72      0.66       614\n",
      "weighted avg       0.77      0.66      0.67       614\n",
      "\n"
     ]
    }
   ],
   "source": [
    "y_train_pred2 = pd.Series(grid_model.predict_proba(X_train_scaled)[:,1]).apply(lambda x : 1 if x >= optimal_threshold else 0)\n",
    "print(confusion_matrix(y_train, y_train_pred2))\n",
    "print(classification_report(y_train, y_train_pred2))"
   ]
  },
  {
   "cell_type": "markdown",
   "id": "deca9ef7",
   "metadata": {},
   "source": [
    "## Final Model and Model Deployment : "
   ]
  },
  {
   "cell_type": "code",
   "execution_count": 46,
   "id": "19ddca41",
   "metadata": {},
   "outputs": [
    {
     "data": {
      "text/plain": [
       "{'C': 0.1, 'class_weight': 'balanced', 'penalty': 'l1', 'solver': 'liblinear'}"
      ]
     },
     "execution_count": 46,
     "metadata": {},
     "output_type": "execute_result"
    }
   ],
   "source": [
    "grid_model.best_params_"
   ]
  },
  {
   "cell_type": "code",
   "execution_count": 47,
   "id": "4d6e2807",
   "metadata": {},
   "outputs": [
    {
     "data": {
      "text/plain": [
       "0.3481459250269427"
      ]
     },
     "execution_count": 47,
     "metadata": {},
     "output_type": "execute_result"
    }
   ],
   "source": [
    "optimal_threshold"
   ]
  },
  {
   "cell_type": "code",
   "execution_count": 50,
   "id": "66ad4509",
   "metadata": {},
   "outputs": [],
   "source": [
    "final_model = LogisticRegression(C=0.1, class_weight=\"balanced\", penalty='l1', solver=\"liblinear\")"
   ]
  },
  {
   "cell_type": "code",
   "execution_count": 51,
   "id": "d3111fba",
   "metadata": {},
   "outputs": [],
   "source": [
    "scale = StandardScaler()"
   ]
  },
  {
   "cell_type": "code",
   "execution_count": 52,
   "id": "4de3a3d3",
   "metadata": {},
   "outputs": [
    {
     "data": {
      "text/plain": [
       "LogisticRegression(C=0.1, class_weight='balanced', penalty='l1',\n",
       "                   solver='liblinear')"
      ]
     },
     "execution_count": 52,
     "metadata": {},
     "output_type": "execute_result"
    }
   ],
   "source": [
    "X_scale = scale.fit_transform(X)\n",
    "final_model.fit(X_scale, y)"
   ]
  },
  {
   "cell_type": "code",
   "execution_count": 55,
   "id": "de11a7c7",
   "metadata": {},
   "outputs": [],
   "source": [
    "prediction = pd.Series(final_model.predict_proba(X_scale)[:,1]).apply(lambda x : 1 if x >= optimal_threshold else 0)\n",
    "#predictions_proba = final_model.predict_proba(X_scale)"
   ]
  },
  {
   "cell_type": "code",
   "execution_count": 56,
   "id": "77b6e58a",
   "metadata": {},
   "outputs": [
    {
     "name": "stdout",
     "output_type": "stream",
     "text": [
      "[[277 223]\n",
      " [ 24 244]]\n",
      "              precision    recall  f1-score   support\n",
      "\n",
      "           0       0.92      0.55      0.69       500\n",
      "           1       0.52      0.91      0.66       268\n",
      "\n",
      "    accuracy                           0.68       768\n",
      "   macro avg       0.72      0.73      0.68       768\n",
      "weighted avg       0.78      0.68      0.68       768\n",
      "\n"
     ]
    }
   ],
   "source": [
    "print(confusion_matrix(y, prediction))\n",
    "print(classification_report(y, prediction))"
   ]
  },
  {
   "cell_type": "code",
   "execution_count": 60,
   "id": "1847ce77",
   "metadata": {},
   "outputs": [],
   "source": [
    "from sklearn.model_selection import StratifiedKFold\n",
    "\n",
    "def CV(n, est, X, y, optimal_threshold):\n",
    "    skf = StratifiedKFold(n_splits = n, shuffle = True, random_state = 42)\n",
    "    acc_scores = []\n",
    "    pre_scores = []\n",
    "    rec_scores = []\n",
    "    f1_scores  = []\n",
    "    \n",
    "    X = X.reset_index(drop=True)\n",
    "    y = y.reset_index(drop=True)\n",
    "    # for ile manuel olarak cross validation train ve test verilerini seçiyoruz.\n",
    "    for train_index, test_index in skf.split(X, y):\n",
    "        \n",
    "        X_train = X.loc[train_index]\n",
    "        y_train = y.loc[train_index]\n",
    "        X_test = X.loc[test_index]\n",
    "        y_test = y.loc[test_index]\n",
    "        \n",
    "        \n",
    "        est = est\n",
    "        est.fit(X_train, y_train)\n",
    "        y_pred = est.predict(X_test)\n",
    "        y_pred_proba = est.predict_proba(X_test)\n",
    "             \n",
    "        y_pred2 = pd.Series(y_pred_proba[:,1]).apply(lambda x : 1 if x >= optimal_threshold else 0)\n",
    "        \n",
    "        acc_scores.append(accuracy_score(y_test, y_pred2))\n",
    "        pre_scores.append(precision_score(y_test, y_pred2, pos_label=1))\n",
    "        rec_scores.append(recall_score(y_test, y_pred2, pos_label=1))\n",
    "        f1_scores.append(f1_score(y_test, y_pred2, pos_label=1))\n",
    "    \n",
    "    # aldığımız her skoru yukarıda tanımlanan boş listeye atıyoruz. \n",
    "    print(f'Accuracy {np.mean(acc_scores)*100:>10,.2f}%  std {np.std(acc_scores)*100:.2f}%') \n",
    "    print(f'Precision-1 {np.mean(pre_scores)*100:>7,.2f}%  std {np.std(pre_scores)*100:.2f}%')\n",
    "    print(f'Recall-1 {np.mean(rec_scores)*100:>10,.2f}%  std {np.std(rec_scores)*100:.2f}%')\n",
    "    print(f'F1_score-1 {np.mean(f1_scores)*100:>8,.2f}%  std {np.std(f1_scores)*100:.2f}%')"
   ]
  },
  {
   "cell_type": "code",
   "execution_count": 66,
   "id": "fbc66220",
   "metadata": {},
   "outputs": [
    {
     "name": "stdout",
     "output_type": "stream",
     "text": [
      "Accuracy      68.09%  std 3.82%\n",
      "Precision-1   52.83%  std 3.90%\n",
      "Recall-1      88.46%  std 5.88%\n",
      "F1_score-1    65.98%  std 3.10%\n"
     ]
    }
   ],
   "source": [
    "model = LogisticRegression(C= 0.1 , class_weight= 'balanced',penalty= 'l2',solver= 'liblinear')\n",
    "CV(10, model, pd.DataFrame(X_scale), y, optimal_threshold)\n",
    "# yazdığımız fonksiyon ile son skorumuzu kontrol ettik. gayet başarılı"
   ]
  },
  {
   "cell_type": "code",
   "execution_count": null,
   "id": "ba4c7007",
   "metadata": {},
   "outputs": [],
   "source": []
  }
 ],
 "metadata": {
  "kernelspec": {
   "display_name": "Python 3 (ipykernel)",
   "language": "python",
   "name": "python3"
  },
  "language_info": {
   "codemirror_mode": {
    "name": "ipython",
    "version": 3
   },
   "file_extension": ".py",
   "mimetype": "text/x-python",
   "name": "python",
   "nbconvert_exporter": "python",
   "pygments_lexer": "ipython3",
   "version": "3.9.7"
  }
 },
 "nbformat": 4,
 "nbformat_minor": 5
}
