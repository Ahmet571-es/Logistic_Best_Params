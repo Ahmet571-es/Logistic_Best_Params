{
 "cells": [
  {
   "cell_type": "code",
   "execution_count": 1,
   "id": "5fe06b8d",
   "metadata": {},
   "outputs": [],
   "source": [
    "import numpy as np\n",
    "import pandas as pd\n",
    "import matplotlib.pyplot as plt\n",
    "import seaborn as sns\n",
    "import scipy.stats as sts\n",
    "plt.rcParams[\"figure.figsize\"] = (10,6) # tüm görsellerin aynı boyutta olması için sabitledik.\n",
    "import warnings\n",
    "warnings.filterwarnings(\"ignore\") # verilen uyarıları notebook getirmesin."
   ]
  },
  {
   "cell_type": "code",
   "execution_count": 2,
   "id": "a11bfe15",
   "metadata": {},
   "outputs": [
    {
     "data": {
      "text/html": [
       "<div>\n",
       "<style scoped>\n",
       "    .dataframe tbody tr th:only-of-type {\n",
       "        vertical-align: middle;\n",
       "    }\n",
       "\n",
       "    .dataframe tbody tr th {\n",
       "        vertical-align: top;\n",
       "    }\n",
       "\n",
       "    .dataframe thead th {\n",
       "        text-align: right;\n",
       "    }\n",
       "</style>\n",
       "<table border=\"1\" class=\"dataframe\">\n",
       "  <thead>\n",
       "    <tr style=\"text-align: right;\">\n",
       "      <th></th>\n",
       "      <th>TV</th>\n",
       "      <th>radio</th>\n",
       "      <th>newspaper</th>\n",
       "      <th>sales</th>\n",
       "    </tr>\n",
       "  </thead>\n",
       "  <tbody>\n",
       "    <tr>\n",
       "      <th>0</th>\n",
       "      <td>230.1</td>\n",
       "      <td>37.8</td>\n",
       "      <td>69.2</td>\n",
       "      <td>22.1</td>\n",
       "    </tr>\n",
       "    <tr>\n",
       "      <th>1</th>\n",
       "      <td>44.5</td>\n",
       "      <td>39.3</td>\n",
       "      <td>45.1</td>\n",
       "      <td>10.4</td>\n",
       "    </tr>\n",
       "    <tr>\n",
       "      <th>2</th>\n",
       "      <td>17.2</td>\n",
       "      <td>45.9</td>\n",
       "      <td>69.3</td>\n",
       "      <td>9.3</td>\n",
       "    </tr>\n",
       "    <tr>\n",
       "      <th>3</th>\n",
       "      <td>151.5</td>\n",
       "      <td>41.3</td>\n",
       "      <td>58.5</td>\n",
       "      <td>18.5</td>\n",
       "    </tr>\n",
       "    <tr>\n",
       "      <th>4</th>\n",
       "      <td>180.8</td>\n",
       "      <td>10.8</td>\n",
       "      <td>58.4</td>\n",
       "      <td>12.9</td>\n",
       "    </tr>\n",
       "  </tbody>\n",
       "</table>\n",
       "</div>"
      ],
      "text/plain": [
       "      TV  radio  newspaper  sales\n",
       "0  230.1   37.8       69.2   22.1\n",
       "1   44.5   39.3       45.1   10.4\n",
       "2   17.2   45.9       69.3    9.3\n",
       "3  151.5   41.3       58.5   18.5\n",
       "4  180.8   10.8       58.4   12.9"
      ]
     },
     "execution_count": 2,
     "metadata": {},
     "output_type": "execute_result"
    }
   ],
   "source": [
    "df = pd.read_csv(\"Advertising.csv\")\n",
    "df.head()"
   ]
  },
  {
   "cell_type": "markdown",
   "id": "34150c80",
   "metadata": {},
   "source": [
    "### NaN kontrol :"
   ]
  },
  {
   "cell_type": "code",
   "execution_count": 3,
   "id": "968337b4",
   "metadata": {},
   "outputs": [
    {
     "name": "stdout",
     "output_type": "stream",
     "text": [
      "<class 'pandas.core.frame.DataFrame'>\n",
      "RangeIndex: 200 entries, 0 to 199\n",
      "Data columns (total 4 columns):\n",
      " #   Column     Non-Null Count  Dtype  \n",
      "---  ------     --------------  -----  \n",
      " 0   TV         200 non-null    float64\n",
      " 1   radio      200 non-null    float64\n",
      " 2   newspaper  200 non-null    float64\n",
      " 3   sales      200 non-null    float64\n",
      "dtypes: float64(4)\n",
      "memory usage: 6.4 KB\n"
     ]
    }
   ],
   "source": [
    "df.info()\n",
    "# NaN değerimiz yok."
   ]
  },
  {
   "cell_type": "markdown",
   "id": "a046ecd1",
   "metadata": {},
   "source": [
    "### Outlier Kontrol : "
   ]
  },
  {
   "cell_type": "code",
   "execution_count": 4,
   "id": "343078ab",
   "metadata": {},
   "outputs": [
    {
     "data": {
      "text/html": [
       "<div>\n",
       "<style scoped>\n",
       "    .dataframe tbody tr th:only-of-type {\n",
       "        vertical-align: middle;\n",
       "    }\n",
       "\n",
       "    .dataframe tbody tr th {\n",
       "        vertical-align: top;\n",
       "    }\n",
       "\n",
       "    .dataframe thead th {\n",
       "        text-align: right;\n",
       "    }\n",
       "</style>\n",
       "<table border=\"1\" class=\"dataframe\">\n",
       "  <thead>\n",
       "    <tr style=\"text-align: right;\">\n",
       "      <th></th>\n",
       "      <th>count</th>\n",
       "      <th>mean</th>\n",
       "      <th>std</th>\n",
       "      <th>min</th>\n",
       "      <th>25%</th>\n",
       "      <th>50%</th>\n",
       "      <th>75%</th>\n",
       "      <th>max</th>\n",
       "    </tr>\n",
       "  </thead>\n",
       "  <tbody>\n",
       "    <tr>\n",
       "      <th>TV</th>\n",
       "      <td>200.0</td>\n",
       "      <td>147.0425</td>\n",
       "      <td>85.854236</td>\n",
       "      <td>0.7</td>\n",
       "      <td>74.375</td>\n",
       "      <td>149.75</td>\n",
       "      <td>218.825</td>\n",
       "      <td>296.4</td>\n",
       "    </tr>\n",
       "    <tr>\n",
       "      <th>radio</th>\n",
       "      <td>200.0</td>\n",
       "      <td>23.2640</td>\n",
       "      <td>14.846809</td>\n",
       "      <td>0.0</td>\n",
       "      <td>9.975</td>\n",
       "      <td>22.90</td>\n",
       "      <td>36.525</td>\n",
       "      <td>49.6</td>\n",
       "    </tr>\n",
       "    <tr>\n",
       "      <th>newspaper</th>\n",
       "      <td>200.0</td>\n",
       "      <td>30.5540</td>\n",
       "      <td>21.778621</td>\n",
       "      <td>0.3</td>\n",
       "      <td>12.750</td>\n",
       "      <td>25.75</td>\n",
       "      <td>45.100</td>\n",
       "      <td>114.0</td>\n",
       "    </tr>\n",
       "    <tr>\n",
       "      <th>sales</th>\n",
       "      <td>200.0</td>\n",
       "      <td>14.0225</td>\n",
       "      <td>5.217457</td>\n",
       "      <td>1.6</td>\n",
       "      <td>10.375</td>\n",
       "      <td>12.90</td>\n",
       "      <td>17.400</td>\n",
       "      <td>27.0</td>\n",
       "    </tr>\n",
       "  </tbody>\n",
       "</table>\n",
       "</div>"
      ],
      "text/plain": [
       "           count      mean        std  min     25%     50%      75%    max\n",
       "TV         200.0  147.0425  85.854236  0.7  74.375  149.75  218.825  296.4\n",
       "radio      200.0   23.2640  14.846809  0.0   9.975   22.90   36.525   49.6\n",
       "newspaper  200.0   30.5540  21.778621  0.3  12.750   25.75   45.100  114.0\n",
       "sales      200.0   14.0225   5.217457  1.6  10.375   12.90   17.400   27.0"
      ]
     },
     "execution_count": 4,
     "metadata": {},
     "output_type": "execute_result"
    }
   ],
   "source": [
    "df.describe().T"
   ]
  },
  {
   "cell_type": "code",
   "execution_count": 5,
   "id": "8d7106c9",
   "metadata": {},
   "outputs": [
    {
     "name": "stdout",
     "output_type": "stream",
     "text": [
      "TV tablosunda toplamda = 0  adet aykırı alt veri vardır.\n",
      "TV tablosunda toplamda = 0 adet aykırı üst veri vardır.\n",
      "radio tablosunda toplamda = 0  adet aykırı alt veri vardır.\n",
      "radio tablosunda toplamda = 0 adet aykırı üst veri vardır.\n",
      "newspaper tablosunda toplamda = 0  adet aykırı alt veri vardır.\n",
      "newspaper tablosunda toplamda = 2 adet aykırı üst veri vardır.\n"
     ]
    },
    {
     "data": {
      "image/png": "[encoded data removed]",
      "text/plain": [
       "<Figure size 1440x1440 with 3 Axes>"
      ]
     },
     "metadata": {
      "needs_background": "light"
     },
     "output_type": "display_data"
    }
   ],
   "source": [
    "index = 0\n",
    "plt.figure(figsize=(20,20))\n",
    "for i in df.columns:\n",
    "    if i != \"sales\":\n",
    "        index += 1\n",
    "        plt.subplot(3,3,index)\n",
    "        sns.boxplot(df[i])\n",
    "        Q1 =df[i].quantile(0.25)\n",
    "        Q3 = df[i].quantile(0.75)\n",
    "        IQR = Q3-Q1\n",
    "        alt_sinir = Q1-(1.5*IQR)\n",
    "        ust_sinir = Q3+(1.5*IQR)\n",
    "        #print(f\"{i} sutununun alt sınır değeri = {alt_sinir}\")\n",
    "        #print(f\"{i} sutununun üst sınır değeri = {ust_sinir}\")\n",
    "        aykiri_alt = df[i] < alt_sinir\n",
    "        aykiri_ust = df[i] > ust_sinir\n",
    "        print(i, \"tablosunda toplamda =\", df[i][aykiri_alt].count(),\" adet aykırı alt veri vardır.\")\n",
    "        print(i, \"tablosunda toplamda =\",df[i][aykiri_ust].count(), \"adet aykırı üst veri vardır.\")"
   ]
  },
  {
   "cell_type": "markdown",
   "id": "510ef8fa",
   "metadata": {},
   "source": [
    "### MultiColinearty : "
   ]
  },
  {
   "cell_type": "code",
   "execution_count": 6,
   "id": "f7c8baea",
   "metadata": {},
   "outputs": [
    {
     "data": {
      "text/html": [
       "<div>\n",
       "<style scoped>\n",
       "    .dataframe tbody tr th:only-of-type {\n",
       "        vertical-align: middle;\n",
       "    }\n",
       "\n",
       "    .dataframe tbody tr th {\n",
       "        vertical-align: top;\n",
       "    }\n",
       "\n",
       "    .dataframe thead th {\n",
       "        text-align: right;\n",
       "    }\n",
       "</style>\n",
       "<table border=\"1\" class=\"dataframe\">\n",
       "  <thead>\n",
       "    <tr style=\"text-align: right;\">\n",
       "      <th></th>\n",
       "      <th>TV</th>\n",
       "      <th>radio</th>\n",
       "      <th>newspaper</th>\n",
       "      <th>sales</th>\n",
       "    </tr>\n",
       "  </thead>\n",
       "  <tbody>\n",
       "    <tr>\n",
       "      <th>TV</th>\n",
       "      <td>1.000000</td>\n",
       "      <td>0.054809</td>\n",
       "      <td>0.056648</td>\n",
       "      <td>0.782224</td>\n",
       "    </tr>\n",
       "    <tr>\n",
       "      <th>radio</th>\n",
       "      <td>0.054809</td>\n",
       "      <td>1.000000</td>\n",
       "      <td>0.354104</td>\n",
       "      <td>0.576223</td>\n",
       "    </tr>\n",
       "    <tr>\n",
       "      <th>newspaper</th>\n",
       "      <td>0.056648</td>\n",
       "      <td>0.354104</td>\n",
       "      <td>1.000000</td>\n",
       "      <td>0.228299</td>\n",
       "    </tr>\n",
       "    <tr>\n",
       "      <th>sales</th>\n",
       "      <td>0.782224</td>\n",
       "      <td>0.576223</td>\n",
       "      <td>0.228299</td>\n",
       "      <td>1.000000</td>\n",
       "    </tr>\n",
       "  </tbody>\n",
       "</table>\n",
       "</div>"
      ],
      "text/plain": [
       "                 TV     radio  newspaper     sales\n",
       "TV         1.000000  0.054809   0.056648  0.782224\n",
       "radio      0.054809  1.000000   0.354104  0.576223\n",
       "newspaper  0.056648  0.354104   1.000000  0.228299\n",
       "sales      0.782224  0.576223   0.228299  1.000000"
      ]
     },
     "execution_count": 6,
     "metadata": {},
     "output_type": "execute_result"
    }
   ],
   "source": [
    "df.corr()"
   ]
  },
  {
   "cell_type": "code",
   "execution_count": 7,
   "id": "f026191b",
   "metadata": {},
   "outputs": [
    {
     "data": {
      "text/html": [
       "<div>\n",
       "<style scoped>\n",
       "    .dataframe tbody tr th:only-of-type {\n",
       "        vertical-align: middle;\n",
       "    }\n",
       "\n",
       "    .dataframe tbody tr th {\n",
       "        vertical-align: top;\n",
       "    }\n",
       "\n",
       "    .dataframe thead th {\n",
       "        text-align: right;\n",
       "    }\n",
       "</style>\n",
       "<table border=\"1\" class=\"dataframe\">\n",
       "  <thead>\n",
       "    <tr style=\"text-align: right;\">\n",
       "      <th></th>\n",
       "      <th>TV</th>\n",
       "      <th>radio</th>\n",
       "      <th>newspaper</th>\n",
       "      <th>sales</th>\n",
       "    </tr>\n",
       "  </thead>\n",
       "  <tbody>\n",
       "    <tr>\n",
       "      <th>TV</th>\n",
       "      <td>NaN</td>\n",
       "      <td>NaN</td>\n",
       "      <td>NaN</td>\n",
       "      <td>0.782224</td>\n",
       "    </tr>\n",
       "    <tr>\n",
       "      <th>radio</th>\n",
       "      <td>NaN</td>\n",
       "      <td>NaN</td>\n",
       "      <td>NaN</td>\n",
       "      <td>NaN</td>\n",
       "    </tr>\n",
       "    <tr>\n",
       "      <th>newspaper</th>\n",
       "      <td>NaN</td>\n",
       "      <td>NaN</td>\n",
       "      <td>NaN</td>\n",
       "      <td>NaN</td>\n",
       "    </tr>\n",
       "    <tr>\n",
       "      <th>sales</th>\n",
       "      <td>0.782224</td>\n",
       "      <td>NaN</td>\n",
       "      <td>NaN</td>\n",
       "      <td>NaN</td>\n",
       "    </tr>\n",
       "  </tbody>\n",
       "</table>\n",
       "</div>"
      ],
      "text/plain": [
       "                 TV  radio  newspaper     sales\n",
       "TV              NaN    NaN        NaN  0.782224\n",
       "radio           NaN    NaN        NaN       NaN\n",
       "newspaper       NaN    NaN        NaN       NaN\n",
       "sales      0.782224    NaN        NaN       NaN"
      ]
     },
     "execution_count": 7,
     "metadata": {},
     "output_type": "execute_result"
    }
   ],
   "source": [
    "multi = df.corr()\n",
    "multi[(multi != 1) & (multi > 0.7)]\n",
    "# görüldüğü üzere futurelerin hiçbiri kendi aralarında yüksek korelasyonları yok. her future kendisi ile yüksek korelasyına \n",
    "# sahip. çaprazda olanlar kendi kendileri ile korelasyon değerleri. onları getirmemen için 1 e eşit olmayanlar ve 0.7 den büyük\n",
    "# olanları istedik. Tv ve sales korelsayonu 0.78"
   ]
  },
  {
   "cell_type": "code",
   "execution_count": null,
   "id": "f9d72e6a",
   "metadata": {},
   "outputs": [],
   "source": []
  },
  {
   "cell_type": "code",
   "execution_count": null,
   "id": "a6f0b7d8",
   "metadata": {},
   "outputs": [],
   "source": []
  },
  {
   "cell_type": "markdown",
   "id": "20fce095",
   "metadata": {},
   "source": [
    "### Test Train Modelleme : "
   ]
  },
  {
   "cell_type": "code",
   "execution_count": 8,
   "id": "938be277",
   "metadata": {},
   "outputs": [],
   "source": [
    "from sklearn.model_selection import train_test_split"
   ]
  },
  {
   "cell_type": "code",
   "execution_count": 9,
   "id": "a2af6c17",
   "metadata": {},
   "outputs": [],
   "source": [
    "X = df.drop(\"sales\", axis=1) # future\n",
    "y = df[\"sales\"] # target"
   ]
  },
  {
   "cell_type": "code",
   "execution_count": 10,
   "id": "8465e51a",
   "metadata": {},
   "outputs": [],
   "source": [
    "X_train, X_test, y_train, y_test = train_test_split(X, y, test_size = 0.25, random_state = 42)"
   ]
  },
  {
   "cell_type": "markdown",
   "id": "94a6931e",
   "metadata": {},
   "source": [
    "### Standart Scale : "
   ]
  },
  {
   "cell_type": "code",
   "execution_count": 11,
   "id": "bea0c198",
   "metadata": {},
   "outputs": [],
   "source": [
    "from sklearn.preprocessing import StandardScaler"
   ]
  },
  {
   "cell_type": "code",
   "execution_count": 12,
   "id": "8169524a",
   "metadata": {},
   "outputs": [],
   "source": [
    "scaler = StandardScaler()\n",
    "X_train_scaler = scaler.fit_transform(X_train)\n",
    "X_test_scaler = scaler.transform(X_test)"
   ]
  },
  {
   "cell_type": "markdown",
   "id": "5c04afdb",
   "metadata": {},
   "source": [
    "### Hata Metricleri : "
   ]
  },
  {
   "cell_type": "code",
   "execution_count": 13,
   "id": "ed12f6ac",
   "metadata": {},
   "outputs": [],
   "source": [
    "from sklearn.metrics import mean_absolute_error, mean_squared_error, r2_score"
   ]
  },
  {
   "cell_type": "code",
   "execution_count": 14,
   "id": "a25e3401",
   "metadata": {},
   "outputs": [],
   "source": [
    "def train_val(y_train, y_train_pred, y_test, y_pred, i):\n",
    "    \n",
    "    scores = {i+\"_train\": {\"R2\" : r2_score(y_train, y_train_pred),\n",
    "    \"mae\" : mean_absolute_error(y_train, y_train_pred),\n",
    "    \"mse\" : mean_squared_error(y_train, y_train_pred),                          \n",
    "    \"rmse\" : np.sqrt(mean_squared_error(y_train, y_train_pred))},\n",
    "    \n",
    "    i+\"_test\": {\"R2\" : r2_score(y_test, y_pred),\n",
    "    \"mae\" : mean_absolute_error(y_test, y_pred),\n",
    "    \"mse\" : mean_squared_error(y_test, y_pred),\n",
    "    \"rmse\" : np.sqrt(mean_squared_error(y_test, y_pred))}}\n",
    "    \n",
    "    return pd.DataFrame(scores)\n",
    "# bu skorları görmek için yazılmış bir fonksiyondur."
   ]
  },
  {
   "cell_type": "markdown",
   "id": "45c3c324",
   "metadata": {},
   "source": [
    "### Default ile Linear regression modelleme : "
   ]
  },
  {
   "cell_type": "code",
   "execution_count": 15,
   "id": "9e431a76",
   "metadata": {},
   "outputs": [
    {
     "data": {
      "text/html": [
       "<div>\n",
       "<style scoped>\n",
       "    .dataframe tbody tr th:only-of-type {\n",
       "        vertical-align: middle;\n",
       "    }\n",
       "\n",
       "    .dataframe tbody tr th {\n",
       "        vertical-align: top;\n",
       "    }\n",
       "\n",
       "    .dataframe thead th {\n",
       "        text-align: right;\n",
       "    }\n",
       "</style>\n",
       "<table border=\"1\" class=\"dataframe\">\n",
       "  <thead>\n",
       "    <tr style=\"text-align: right;\">\n",
       "      <th></th>\n",
       "      <th>linear_train</th>\n",
       "      <th>linear_test</th>\n",
       "    </tr>\n",
       "  </thead>\n",
       "  <tbody>\n",
       "    <tr>\n",
       "      <th>R2</th>\n",
       "      <td>0.896645</td>\n",
       "      <td>0.893516</td>\n",
       "    </tr>\n",
       "    <tr>\n",
       "      <th>mae</th>\n",
       "      <td>1.215619</td>\n",
       "      <td>1.402312</td>\n",
       "    </tr>\n",
       "    <tr>\n",
       "      <th>mse</th>\n",
       "      <td>2.767891</td>\n",
       "      <td>2.880024</td>\n",
       "    </tr>\n",
       "    <tr>\n",
       "      <th>rmse</th>\n",
       "      <td>1.663698</td>\n",
       "      <td>1.697063</td>\n",
       "    </tr>\n",
       "  </tbody>\n",
       "</table>\n",
       "</div>"
      ],
      "text/plain": [
       "      linear_train  linear_test\n",
       "R2        0.896645     0.893516\n",
       "mae       1.215619     1.402312\n",
       "mse       2.767891     2.880024\n",
       "rmse      1.663698     1.697063"
      ]
     },
     "execution_count": 15,
     "metadata": {},
     "output_type": "execute_result"
    }
   ],
   "source": [
    "from sklearn.linear_model import LinearRegression\n",
    "model = LinearRegression()\n",
    "model.fit(X_train_scaler, y_train)\n",
    "y_pred = model.predict(X_test_scaler)\n",
    "y_train_pred = model.predict(X_train_scaler)\n",
    "ls = train_val(y_train, y_train_pred, y_test, y_pred, \"linear\")\n",
    "ls\n",
    "# skorlar arasında Overfiting yok. train ve test arasında skorlar çok dengeli."
   ]
  },
  {
   "cell_type": "code",
   "execution_count": null,
   "id": "b45c8bc4",
   "metadata": {},
   "outputs": [],
   "source": []
  },
  {
   "cell_type": "markdown",
   "id": "f83d826e",
   "metadata": {},
   "source": [
    "### Cross Validate : "
   ]
  },
  {
   "cell_type": "code",
   "execution_count": 16,
   "id": "fdf0b8b4",
   "metadata": {},
   "outputs": [],
   "source": [
    "from sklearn.model_selection import cross_validate\n",
    "# cross_validate ile tüm skorları kontrol edebiliriz. cross validate ile tüm train datamızda ki değerler teker teker fit edilir\n",
    "# ve her satır için 1 değeri test için ayırır. sonra cv değeri kadar tüm datanın skorlarını alır. skorların ortalamasını alır\n",
    "# bize ortalama skorları verir."
   ]
  },
  {
   "cell_type": "code",
   "execution_count": 17,
   "id": "57e34535",
   "metadata": {},
   "outputs": [
    {
     "data": {
      "text/plain": [
       "test_r2                             0.860913\n",
       "test_neg_mean_absolute_error       -1.262778\n",
       "test_neg_mean_squared_error        -3.024495\n",
       "test_neg_root_mean_squared_error   -1.656295\n",
       "dtype: float64"
      ]
     },
     "execution_count": 17,
     "metadata": {},
     "output_type": "execute_result"
    }
   ],
   "source": [
    "model = LinearRegression() # linear regresyon tanımladık.\n",
    "scores = cross_validate(model, X_train_scaler, y_train, scoring = ['r2', 'neg_mean_absolute_error','neg_mean_squared_error', \\\n",
    "                                                            'neg_root_mean_squared_error'], cv = 10)\n",
    "# tüm modeli içerisine yazabiliriz. sırasıyla bu şekilde yazılır. scoresun içinde işimize yarayacak skorları düzenleriz.\n",
    "# r2 skorda - olması kafa karıştırması pozitif olarak değerlendireceğiz. datayı 10 e bölmek istedik.\n",
    "# her data da cross validation yapılması gerekmektedir. \n",
    "# cv ne kadar büyük olursa o kadar güvenli skorlar verilir. \n",
    "scores = pd.DataFrame(scores, index=range(1,11))\n",
    "scores.iloc[:, 2:].mean()\n",
    "# cross validate ile de skorların oldukça yakın olduğu görüldü. ve overfiting durumu yok."
   ]
  },
  {
   "cell_type": "markdown",
   "id": "ad5b2787",
   "metadata": {},
   "source": [
    "### Ridge model ile skoru almak : "
   ]
  },
  {
   "cell_type": "code",
   "execution_count": 18,
   "id": "6a65914f",
   "metadata": {},
   "outputs": [],
   "source": [
    "from sklearn.linear_model import Ridge"
   ]
  },
  {
   "cell_type": "code",
   "execution_count": 19,
   "id": "e444c9e6",
   "metadata": {},
   "outputs": [
    {
     "data": {
      "text/html": [
       "<div>\n",
       "<style scoped>\n",
       "    .dataframe tbody tr th:only-of-type {\n",
       "        vertical-align: middle;\n",
       "    }\n",
       "\n",
       "    .dataframe tbody tr th {\n",
       "        vertical-align: top;\n",
       "    }\n",
       "\n",
       "    .dataframe thead th {\n",
       "        text-align: right;\n",
       "    }\n",
       "</style>\n",
       "<table border=\"1\" class=\"dataframe\">\n",
       "  <thead>\n",
       "    <tr style=\"text-align: right;\">\n",
       "      <th></th>\n",
       "      <th>ridge_train</th>\n",
       "      <th>ridge_test</th>\n",
       "    </tr>\n",
       "  </thead>\n",
       "  <tbody>\n",
       "    <tr>\n",
       "      <th>R2</th>\n",
       "      <td>0.896606</td>\n",
       "      <td>0.893535</td>\n",
       "    </tr>\n",
       "    <tr>\n",
       "      <th>mae</th>\n",
       "      <td>1.216458</td>\n",
       "      <td>1.400372</td>\n",
       "    </tr>\n",
       "    <tr>\n",
       "      <th>mse</th>\n",
       "      <td>2.768911</td>\n",
       "      <td>2.879523</td>\n",
       "    </tr>\n",
       "    <tr>\n",
       "      <th>rmse</th>\n",
       "      <td>1.664004</td>\n",
       "      <td>1.696916</td>\n",
       "    </tr>\n",
       "  </tbody>\n",
       "</table>\n",
       "</div>"
      ],
      "text/plain": [
       "      ridge_train  ridge_test\n",
       "R2       0.896606    0.893535\n",
       "mae      1.216458    1.400372\n",
       "mse      2.768911    2.879523\n",
       "rmse     1.664004    1.696916"
      ]
     },
     "execution_count": 19,
     "metadata": {},
     "output_type": "execute_result"
    }
   ],
   "source": [
    "ridge_model = Ridge(random_state=42)\n",
    "ridge_model.fit(X_train_scaler, y_train)\n",
    "y_pred = ridge_model.predict(X_test_scaler)\n",
    "y_train_pred = ridge_model.predict(X_train_scaler)\n",
    "ridge_score = train_val(y_train, y_train_pred, y_test, y_pred, \"ridge\")\n",
    "ridge_score"
   ]
  },
  {
   "cell_type": "code",
   "execution_count": 20,
   "id": "4f95c201",
   "metadata": {},
   "outputs": [
    {
     "data": {
      "text/plain": [
       "test_r2                             0.861369\n",
       "test_neg_mean_absolute_error       -1.264688\n",
       "test_neg_mean_squared_error        -3.026084\n",
       "test_neg_root_mean_squared_error   -1.656817\n",
       "dtype: float64"
      ]
     },
     "execution_count": 20,
     "metadata": {},
     "output_type": "execute_result"
    }
   ],
   "source": [
    "# Ridge skorları cross validate ile kontrol ettik.\n",
    "model = Ridge()\n",
    "scores = cross_validate(model, X_train_scaler, y_train, scoring = ['r2', 'neg_mean_absolute_error','neg_mean_squared_error', \\\n",
    "                                                            'neg_root_mean_squared_error'], cv = 10)\n",
    "\n",
    "scores = pd.DataFrame(scores, index=range(1,11))\n",
    "scores.iloc[:, 2:].mean()\n"
   ]
  },
  {
   "cell_type": "code",
   "execution_count": 21,
   "id": "2267ab85",
   "metadata": {},
   "outputs": [
    {
     "data": {
      "text/html": [
       "<div>\n",
       "<style scoped>\n",
       "    .dataframe tbody tr th:only-of-type {\n",
       "        vertical-align: middle;\n",
       "    }\n",
       "\n",
       "    .dataframe tbody tr th {\n",
       "        vertical-align: top;\n",
       "    }\n",
       "\n",
       "    .dataframe thead th {\n",
       "        text-align: right;\n",
       "    }\n",
       "</style>\n",
       "<table border=\"1\" class=\"dataframe\">\n",
       "  <thead>\n",
       "    <tr style=\"text-align: right;\">\n",
       "      <th></th>\n",
       "      <th>linear_train</th>\n",
       "      <th>linear_test</th>\n",
       "      <th>ridge_train</th>\n",
       "      <th>ridge_test</th>\n",
       "    </tr>\n",
       "  </thead>\n",
       "  <tbody>\n",
       "    <tr>\n",
       "      <th>R2</th>\n",
       "      <td>0.896645</td>\n",
       "      <td>0.893516</td>\n",
       "      <td>0.896606</td>\n",
       "      <td>0.893535</td>\n",
       "    </tr>\n",
       "    <tr>\n",
       "      <th>mae</th>\n",
       "      <td>1.215619</td>\n",
       "      <td>1.402312</td>\n",
       "      <td>1.216458</td>\n",
       "      <td>1.400372</td>\n",
       "    </tr>\n",
       "    <tr>\n",
       "      <th>mse</th>\n",
       "      <td>2.767891</td>\n",
       "      <td>2.880024</td>\n",
       "      <td>2.768911</td>\n",
       "      <td>2.879523</td>\n",
       "    </tr>\n",
       "    <tr>\n",
       "      <th>rmse</th>\n",
       "      <td>1.663698</td>\n",
       "      <td>1.697063</td>\n",
       "      <td>1.664004</td>\n",
       "      <td>1.696916</td>\n",
       "    </tr>\n",
       "  </tbody>\n",
       "</table>\n",
       "</div>"
      ],
      "text/plain": [
       "      linear_train  linear_test  ridge_train  ridge_test\n",
       "R2        0.896645     0.893516     0.896606    0.893535\n",
       "mae       1.215619     1.402312     1.216458    1.400372\n",
       "mse       2.767891     2.880024     2.768911    2.879523\n",
       "rmse      1.663698     1.697063     1.664004    1.696916"
      ]
     },
     "execution_count": 21,
     "metadata": {},
     "output_type": "execute_result"
    }
   ],
   "source": [
    "pd.concat([ls, ridge_score], axis=1)\n",
    "# skorlar aynı."
   ]
  },
  {
   "cell_type": "markdown",
   "id": "4c37e1eb",
   "metadata": {},
   "source": [
    "### RidgeCV ile skorlara bakalım : "
   ]
  },
  {
   "cell_type": "code",
   "execution_count": 22,
   "id": "85f4279c",
   "metadata": {},
   "outputs": [],
   "source": [
    "from sklearn.linear_model import RidgeCV"
   ]
  },
  {
   "cell_type": "code",
   "execution_count": 23,
   "id": "3a81baeb",
   "metadata": {},
   "outputs": [
    {
     "data": {
      "text/plain": [
       "array([ 0.01,  0.02,  0.03,  0.04,  0.05,  0.06,  0.07,  0.08,  0.09,\n",
       "        0.1 ,  0.11,  0.12,  0.13,  0.14,  0.15,  0.16,  0.17,  0.18,\n",
       "        0.19,  0.2 ,  0.21,  0.22,  0.23,  0.24,  0.25,  0.26,  0.27,\n",
       "        0.28,  0.29,  0.3 ,  0.31,  0.32,  0.33,  0.34,  0.35,  0.36,\n",
       "        0.37,  0.38,  0.39,  0.4 ,  0.41,  0.42,  0.43,  0.44,  0.45,\n",
       "        0.46,  0.47,  0.48,  0.49,  0.5 ,  0.51,  0.52,  0.53,  0.54,\n",
       "        0.55,  0.56,  0.57,  0.58,  0.59,  0.6 ,  0.61,  0.62,  0.63,\n",
       "        0.64,  0.65,  0.66,  0.67,  0.68,  0.69,  0.7 ,  0.71,  0.72,\n",
       "        0.73,  0.74,  0.75,  0.76,  0.77,  0.78,  0.79,  0.8 ,  0.81,\n",
       "        0.82,  0.83,  0.84,  0.85,  0.86,  0.87,  0.88,  0.89,  0.9 ,\n",
       "        0.91,  0.92,  0.93,  0.94,  0.95,  0.96,  0.97,  0.98,  0.99,\n",
       "        1.  ,  1.01,  1.02,  1.03,  1.04,  1.05,  1.06,  1.07,  1.08,\n",
       "        1.09,  1.1 ,  1.11,  1.12,  1.13,  1.14,  1.15,  1.16,  1.17,\n",
       "        1.18,  1.19,  1.2 ,  1.21,  1.22,  1.23,  1.24,  1.25,  1.26,\n",
       "        1.27,  1.28,  1.29,  1.3 ,  1.31,  1.32,  1.33,  1.34,  1.35,\n",
       "        1.36,  1.37,  1.38,  1.39,  1.4 ,  1.41,  1.42,  1.43,  1.44,\n",
       "        1.45,  1.46,  1.47,  1.48,  1.49,  1.5 ,  1.51,  1.52,  1.53,\n",
       "        1.54,  1.55,  1.56,  1.57,  1.58,  1.59,  1.6 ,  1.61,  1.62,\n",
       "        1.63,  1.64,  1.65,  1.66,  1.67,  1.68,  1.69,  1.7 ,  1.71,\n",
       "        1.72,  1.73,  1.74,  1.75,  1.76,  1.77,  1.78,  1.79,  1.8 ,\n",
       "        1.81,  1.82,  1.83,  1.84,  1.85,  1.86,  1.87,  1.88,  1.89,\n",
       "        1.9 ,  1.91,  1.92,  1.93,  1.94,  1.95,  1.96,  1.97,  1.98,\n",
       "        1.99,  2.  ,  2.01,  2.02,  2.03,  2.04,  2.05,  2.06,  2.07,\n",
       "        2.08,  2.09,  2.1 ,  2.11,  2.12,  2.13,  2.14,  2.15,  2.16,\n",
       "        2.17,  2.18,  2.19,  2.2 ,  2.21,  2.22,  2.23,  2.24,  2.25,\n",
       "        2.26,  2.27,  2.28,  2.29,  2.3 ,  2.31,  2.32,  2.33,  2.34,\n",
       "        2.35,  2.36,  2.37,  2.38,  2.39,  2.4 ,  2.41,  2.42,  2.43,\n",
       "        2.44,  2.45,  2.46,  2.47,  2.48,  2.49,  2.5 ,  2.51,  2.52,\n",
       "        2.53,  2.54,  2.55,  2.56,  2.57,  2.58,  2.59,  2.6 ,  2.61,\n",
       "        2.62,  2.63,  2.64,  2.65,  2.66,  2.67,  2.68,  2.69,  2.7 ,\n",
       "        2.71,  2.72,  2.73,  2.74,  2.75,  2.76,  2.77,  2.78,  2.79,\n",
       "        2.8 ,  2.81,  2.82,  2.83,  2.84,  2.85,  2.86,  2.87,  2.88,\n",
       "        2.89,  2.9 ,  2.91,  2.92,  2.93,  2.94,  2.95,  2.96,  2.97,\n",
       "        2.98,  2.99,  3.  ,  3.01,  3.02,  3.03,  3.04,  3.05,  3.06,\n",
       "        3.07,  3.08,  3.09,  3.1 ,  3.11,  3.12,  3.13,  3.14,  3.15,\n",
       "        3.16,  3.17,  3.18,  3.19,  3.2 ,  3.21,  3.22,  3.23,  3.24,\n",
       "        3.25,  3.26,  3.27,  3.28,  3.29,  3.3 ,  3.31,  3.32,  3.33,\n",
       "        3.34,  3.35,  3.36,  3.37,  3.38,  3.39,  3.4 ,  3.41,  3.42,\n",
       "        3.43,  3.44,  3.45,  3.46,  3.47,  3.48,  3.49,  3.5 ,  3.51,\n",
       "        3.52,  3.53,  3.54,  3.55,  3.56,  3.57,  3.58,  3.59,  3.6 ,\n",
       "        3.61,  3.62,  3.63,  3.64,  3.65,  3.66,  3.67,  3.68,  3.69,\n",
       "        3.7 ,  3.71,  3.72,  3.73,  3.74,  3.75,  3.76,  3.77,  3.78,\n",
       "        3.79,  3.8 ,  3.81,  3.82,  3.83,  3.84,  3.85,  3.86,  3.87,\n",
       "        3.88,  3.89,  3.9 ,  3.91,  3.92,  3.93,  3.94,  3.95,  3.96,\n",
       "        3.97,  3.98,  3.99,  4.  ,  4.01,  4.02,  4.03,  4.04,  4.05,\n",
       "        4.06,  4.07,  4.08,  4.09,  4.1 ,  4.11,  4.12,  4.13,  4.14,\n",
       "        4.15,  4.16,  4.17,  4.18,  4.19,  4.2 ,  4.21,  4.22,  4.23,\n",
       "        4.24,  4.25,  4.26,  4.27,  4.28,  4.29,  4.3 ,  4.31,  4.32,\n",
       "        4.33,  4.34,  4.35,  4.36,  4.37,  4.38,  4.39,  4.4 ,  4.41,\n",
       "        4.42,  4.43,  4.44,  4.45,  4.46,  4.47,  4.48,  4.49,  4.5 ,\n",
       "        4.51,  4.52,  4.53,  4.54,  4.55,  4.56,  4.57,  4.58,  4.59,\n",
       "        4.6 ,  4.61,  4.62,  4.63,  4.64,  4.65,  4.66,  4.67,  4.68,\n",
       "        4.69,  4.7 ,  4.71,  4.72,  4.73,  4.74,  4.75,  4.76,  4.77,\n",
       "        4.78,  4.79,  4.8 ,  4.81,  4.82,  4.83,  4.84,  4.85,  4.86,\n",
       "        4.87,  4.88,  4.89,  4.9 ,  4.91,  4.92,  4.93,  4.94,  4.95,\n",
       "        4.96,  4.97,  4.98,  4.99,  5.  ,  5.01,  5.02,  5.03,  5.04,\n",
       "        5.05,  5.06,  5.07,  5.08,  5.09,  5.1 ,  5.11,  5.12,  5.13,\n",
       "        5.14,  5.15,  5.16,  5.17,  5.18,  5.19,  5.2 ,  5.21,  5.22,\n",
       "        5.23,  5.24,  5.25,  5.26,  5.27,  5.28,  5.29,  5.3 ,  5.31,\n",
       "        5.32,  5.33,  5.34,  5.35,  5.36,  5.37,  5.38,  5.39,  5.4 ,\n",
       "        5.41,  5.42,  5.43,  5.44,  5.45,  5.46,  5.47,  5.48,  5.49,\n",
       "        5.5 ,  5.51,  5.52,  5.53,  5.54,  5.55,  5.56,  5.57,  5.58,\n",
       "        5.59,  5.6 ,  5.61,  5.62,  5.63,  5.64,  5.65,  5.66,  5.67,\n",
       "        5.68,  5.69,  5.7 ,  5.71,  5.72,  5.73,  5.74,  5.75,  5.76,\n",
       "        5.77,  5.78,  5.79,  5.8 ,  5.81,  5.82,  5.83,  5.84,  5.85,\n",
       "        5.86,  5.87,  5.88,  5.89,  5.9 ,  5.91,  5.92,  5.93,  5.94,\n",
       "        5.95,  5.96,  5.97,  5.98,  5.99,  6.  ,  6.01,  6.02,  6.03,\n",
       "        6.04,  6.05,  6.06,  6.07,  6.08,  6.09,  6.1 ,  6.11,  6.12,\n",
       "        6.13,  6.14,  6.15,  6.16,  6.17,  6.18,  6.19,  6.2 ,  6.21,\n",
       "        6.22,  6.23,  6.24,  6.25,  6.26,  6.27,  6.28,  6.29,  6.3 ,\n",
       "        6.31,  6.32,  6.33,  6.34,  6.35,  6.36,  6.37,  6.38,  6.39,\n",
       "        6.4 ,  6.41,  6.42,  6.43,  6.44,  6.45,  6.46,  6.47,  6.48,\n",
       "        6.49,  6.5 ,  6.51,  6.52,  6.53,  6.54,  6.55,  6.56,  6.57,\n",
       "        6.58,  6.59,  6.6 ,  6.61,  6.62,  6.63,  6.64,  6.65,  6.66,\n",
       "        6.67,  6.68,  6.69,  6.7 ,  6.71,  6.72,  6.73,  6.74,  6.75,\n",
       "        6.76,  6.77,  6.78,  6.79,  6.8 ,  6.81,  6.82,  6.83,  6.84,\n",
       "        6.85,  6.86,  6.87,  6.88,  6.89,  6.9 ,  6.91,  6.92,  6.93,\n",
       "        6.94,  6.95,  6.96,  6.97,  6.98,  6.99,  7.  ,  7.01,  7.02,\n",
       "        7.03,  7.04,  7.05,  7.06,  7.07,  7.08,  7.09,  7.1 ,  7.11,\n",
       "        7.12,  7.13,  7.14,  7.15,  7.16,  7.17,  7.18,  7.19,  7.2 ,\n",
       "        7.21,  7.22,  7.23,  7.24,  7.25,  7.26,  7.27,  7.28,  7.29,\n",
       "        7.3 ,  7.31,  7.32,  7.33,  7.34,  7.35,  7.36,  7.37,  7.38,\n",
       "        7.39,  7.4 ,  7.41,  7.42,  7.43,  7.44,  7.45,  7.46,  7.47,\n",
       "        7.48,  7.49,  7.5 ,  7.51,  7.52,  7.53,  7.54,  7.55,  7.56,\n",
       "        7.57,  7.58,  7.59,  7.6 ,  7.61,  7.62,  7.63,  7.64,  7.65,\n",
       "        7.66,  7.67,  7.68,  7.69,  7.7 ,  7.71,  7.72,  7.73,  7.74,\n",
       "        7.75,  7.76,  7.77,  7.78,  7.79,  7.8 ,  7.81,  7.82,  7.83,\n",
       "        7.84,  7.85,  7.86,  7.87,  7.88,  7.89,  7.9 ,  7.91,  7.92,\n",
       "        7.93,  7.94,  7.95,  7.96,  7.97,  7.98,  7.99,  8.  ,  8.01,\n",
       "        8.02,  8.03,  8.04,  8.05,  8.06,  8.07,  8.08,  8.09,  8.1 ,\n",
       "        8.11,  8.12,  8.13,  8.14,  8.15,  8.16,  8.17,  8.18,  8.19,\n",
       "        8.2 ,  8.21,  8.22,  8.23,  8.24,  8.25,  8.26,  8.27,  8.28,\n",
       "        8.29,  8.3 ,  8.31,  8.32,  8.33,  8.34,  8.35,  8.36,  8.37,\n",
       "        8.38,  8.39,  8.4 ,  8.41,  8.42,  8.43,  8.44,  8.45,  8.46,\n",
       "        8.47,  8.48,  8.49,  8.5 ,  8.51,  8.52,  8.53,  8.54,  8.55,\n",
       "        8.56,  8.57,  8.58,  8.59,  8.6 ,  8.61,  8.62,  8.63,  8.64,\n",
       "        8.65,  8.66,  8.67,  8.68,  8.69,  8.7 ,  8.71,  8.72,  8.73,\n",
       "        8.74,  8.75,  8.76,  8.77,  8.78,  8.79,  8.8 ,  8.81,  8.82,\n",
       "        8.83,  8.84,  8.85,  8.86,  8.87,  8.88,  8.89,  8.9 ,  8.91,\n",
       "        8.92,  8.93,  8.94,  8.95,  8.96,  8.97,  8.98,  8.99,  9.  ,\n",
       "        9.01,  9.02,  9.03,  9.04,  9.05,  9.06,  9.07,  9.08,  9.09,\n",
       "        9.1 ,  9.11,  9.12,  9.13,  9.14,  9.15,  9.16,  9.17,  9.18,\n",
       "        9.19,  9.2 ,  9.21,  9.22,  9.23,  9.24,  9.25,  9.26,  9.27,\n",
       "        9.28,  9.29,  9.3 ,  9.31,  9.32,  9.33,  9.34,  9.35,  9.36,\n",
       "        9.37,  9.38,  9.39,  9.4 ,  9.41,  9.42,  9.43,  9.44,  9.45,\n",
       "        9.46,  9.47,  9.48,  9.49,  9.5 ,  9.51,  9.52,  9.53,  9.54,\n",
       "        9.55,  9.56,  9.57,  9.58,  9.59,  9.6 ,  9.61,  9.62,  9.63,\n",
       "        9.64,  9.65,  9.66,  9.67,  9.68,  9.69,  9.7 ,  9.71,  9.72,\n",
       "        9.73,  9.74,  9.75,  9.76,  9.77,  9.78,  9.79,  9.8 ,  9.81,\n",
       "        9.82,  9.83,  9.84,  9.85,  9.86,  9.87,  9.88,  9.89,  9.9 ,\n",
       "        9.91,  9.92,  9.93,  9.94,  9.95,  9.96,  9.97,  9.98,  9.99,\n",
       "       10.  ])"
      ]
     },
     "execution_count": 23,
     "metadata": {},
     "output_type": "execute_result"
    }
   ],
   "source": [
    "alpa_space = np.linspace(0.01,10,1000)\n",
    "alpa_space"
   ]
  },
  {
   "cell_type": "code",
   "execution_count": 24,
   "id": "8773c7b8",
   "metadata": {},
   "outputs": [
    {
     "data": {
      "text/html": [
       "<div>\n",
       "<style scoped>\n",
       "    .dataframe tbody tr th:only-of-type {\n",
       "        vertical-align: middle;\n",
       "    }\n",
       "\n",
       "    .dataframe tbody tr th {\n",
       "        vertical-align: top;\n",
       "    }\n",
       "\n",
       "    .dataframe thead th {\n",
       "        text-align: right;\n",
       "    }\n",
       "</style>\n",
       "<table border=\"1\" class=\"dataframe\">\n",
       "  <thead>\n",
       "    <tr style=\"text-align: right;\">\n",
       "      <th></th>\n",
       "      <th>ridge_cv_train</th>\n",
       "      <th>ridge_cv_test</th>\n",
       "    </tr>\n",
       "  </thead>\n",
       "  <tbody>\n",
       "    <tr>\n",
       "      <th>R2</th>\n",
       "      <td>0.896636</td>\n",
       "      <td>0.893535</td>\n",
       "    </tr>\n",
       "    <tr>\n",
       "      <th>mae</th>\n",
       "      <td>1.216016</td>\n",
       "      <td>1.401402</td>\n",
       "    </tr>\n",
       "    <tr>\n",
       "      <th>mse</th>\n",
       "      <td>2.768118</td>\n",
       "      <td>2.879523</td>\n",
       "    </tr>\n",
       "    <tr>\n",
       "      <th>rmse</th>\n",
       "      <td>1.663766</td>\n",
       "      <td>1.696916</td>\n",
       "    </tr>\n",
       "  </tbody>\n",
       "</table>\n",
       "</div>"
      ],
      "text/plain": [
       "      ridge_cv_train  ridge_cv_test\n",
       "R2          0.896636       0.893535\n",
       "mae         1.216016       1.401402\n",
       "mse         2.768118       2.879523\n",
       "rmse        1.663766       1.696916"
      ]
     },
     "execution_count": 24,
     "metadata": {},
     "output_type": "execute_result"
    }
   ],
   "source": [
    "ridge_cv_model = RidgeCV(alphas= alpa_space, scoring=\"r2\", cv=5)\n",
    "ridge_cv_model.fit(X_train_scaler, y_train)\n",
    "y_pred = ridge_cv_model.predict(X_test_scaler)\n",
    "y_train_pred = ridge_cv_model.predict(X_train_scaler)\n",
    "ridge_score_cv = train_val(y_train, y_train_pred, y_test, y_pred, \"ridge_cv\")\n",
    "ridge_score_cv"
   ]
  },
  {
   "cell_type": "code",
   "execution_count": 26,
   "id": "f5670f98",
   "metadata": {},
   "outputs": [
    {
     "data": {
      "text/plain": [
       "0.47000000000000003"
      ]
     },
     "execution_count": 26,
     "metadata": {},
     "output_type": "execute_result"
    }
   ],
   "source": [
    "ridge_cv_model.alpha_\n",
    "# en iyi alpha değeri alpha değeri bizim train ve test arasında ki farkı gidermek için eklenen bias değeridir."
   ]
  },
  {
   "cell_type": "markdown",
   "id": "cfff2f6d",
   "metadata": {},
   "source": [
    "### Lasso Default : "
   ]
  },
  {
   "cell_type": "code",
   "execution_count": 27,
   "id": "e604be39",
   "metadata": {},
   "outputs": [],
   "source": [
    "from sklearn.linear_model import Lasso, LassoCV"
   ]
  },
  {
   "cell_type": "code",
   "execution_count": 28,
   "id": "6784c8a9",
   "metadata": {},
   "outputs": [
    {
     "data": {
      "text/html": [
       "<div>\n",
       "<style scoped>\n",
       "    .dataframe tbody tr th:only-of-type {\n",
       "        vertical-align: middle;\n",
       "    }\n",
       "\n",
       "    .dataframe tbody tr th {\n",
       "        vertical-align: top;\n",
       "    }\n",
       "\n",
       "    .dataframe thead th {\n",
       "        text-align: right;\n",
       "    }\n",
       "</style>\n",
       "<table border=\"1\" class=\"dataframe\">\n",
       "  <thead>\n",
       "    <tr style=\"text-align: right;\">\n",
       "      <th></th>\n",
       "      <th>lasso_train</th>\n",
       "      <th>lasso_test</th>\n",
       "    </tr>\n",
       "  </thead>\n",
       "  <tbody>\n",
       "    <tr>\n",
       "      <th>R2</th>\n",
       "      <td>0.824970</td>\n",
       "      <td>0.831350</td>\n",
       "    </tr>\n",
       "    <tr>\n",
       "      <th>mae</th>\n",
       "      <td>1.576285</td>\n",
       "      <td>1.546627</td>\n",
       "    </tr>\n",
       "    <tr>\n",
       "      <th>mse</th>\n",
       "      <td>4.687354</td>\n",
       "      <td>4.561408</td>\n",
       "    </tr>\n",
       "    <tr>\n",
       "      <th>rmse</th>\n",
       "      <td>2.165030</td>\n",
       "      <td>2.135745</td>\n",
       "    </tr>\n",
       "  </tbody>\n",
       "</table>\n",
       "</div>"
      ],
      "text/plain": [
       "      lasso_train  lasso_test\n",
       "R2       0.824970    0.831350\n",
       "mae      1.576285    1.546627\n",
       "mse      4.687354    4.561408\n",
       "rmse     2.165030    2.135745"
      ]
     },
     "execution_count": 28,
     "metadata": {},
     "output_type": "execute_result"
    }
   ],
   "source": [
    "lasso_model = Lasso(random_state=42)\n",
    "lasso_model.fit(X_train_scaler, y_train)\n",
    "y_pred = lasso_model.predict(X_test_scaler)\n",
    "y_train_pred = lasso_model.predict(X_train_scaler)\n",
    "lasso_score = train_val(y_train, y_train_pred, y_test, y_pred, \"lasso\")\n",
    "lasso_score\n",
    "# skorlarımız düştü."
   ]
  },
  {
   "cell_type": "code",
   "execution_count": 29,
   "id": "037ef310",
   "metadata": {},
   "outputs": [
    {
     "data": {
      "text/plain": [
       "test_r2                             0.790370\n",
       "test_neg_mean_absolute_error       -1.634312\n",
       "test_neg_mean_squared_error        -5.074699\n",
       "test_neg_root_mean_squared_error   -2.159019\n",
       "dtype: float64"
      ]
     },
     "execution_count": 29,
     "metadata": {},
     "output_type": "execute_result"
    }
   ],
   "source": [
    "# Lasso skorları cross validate ile kontrol ettik.\n",
    "model = Lasso()\n",
    "scores = cross_validate(model, X_train_scaler, y_train, scoring = ['r2', 'neg_mean_absolute_error','neg_mean_squared_error', \\\n",
    "                                                            'neg_root_mean_squared_error'], cv = 10)\n",
    "\n",
    "scores = pd.DataFrame(scores, index=range(1,11))\n",
    "scores.iloc[:, 2:].mean()\n"
   ]
  },
  {
   "cell_type": "code",
   "execution_count": 33,
   "id": "aefa3dd6",
   "metadata": {},
   "outputs": [
    {
     "data": {
      "text/html": [
       "<div>\n",
       "<style scoped>\n",
       "    .dataframe tbody tr th:only-of-type {\n",
       "        vertical-align: middle;\n",
       "    }\n",
       "\n",
       "    .dataframe tbody tr th {\n",
       "        vertical-align: top;\n",
       "    }\n",
       "\n",
       "    .dataframe thead th {\n",
       "        text-align: right;\n",
       "    }\n",
       "</style>\n",
       "<table border=\"1\" class=\"dataframe\">\n",
       "  <thead>\n",
       "    <tr style=\"text-align: right;\">\n",
       "      <th></th>\n",
       "      <th>lasso_cv_train</th>\n",
       "      <th>lasso_cv_test</th>\n",
       "    </tr>\n",
       "  </thead>\n",
       "  <tbody>\n",
       "    <tr>\n",
       "      <th>R2</th>\n",
       "      <td>0.896097</td>\n",
       "      <td>0.895089</td>\n",
       "    </tr>\n",
       "    <tr>\n",
       "      <th>mae</th>\n",
       "      <td>1.217979</td>\n",
       "      <td>1.377568</td>\n",
       "    </tr>\n",
       "    <tr>\n",
       "      <th>mse</th>\n",
       "      <td>2.782565</td>\n",
       "      <td>2.837496</td>\n",
       "    </tr>\n",
       "    <tr>\n",
       "      <th>rmse</th>\n",
       "      <td>1.668102</td>\n",
       "      <td>1.684487</td>\n",
       "    </tr>\n",
       "  </tbody>\n",
       "</table>\n",
       "</div>"
      ],
      "text/plain": [
       "      lasso_cv_train  lasso_cv_test\n",
       "R2          0.896097       0.895089\n",
       "mae         1.217979       1.377568\n",
       "mse         2.782565       2.837496\n",
       "rmse        1.668102       1.684487"
      ]
     },
     "execution_count": 33,
     "metadata": {},
     "output_type": "execute_result"
    }
   ],
   "source": [
    "lasso_cv_model = LassoCV(alphas = alpa_space, cv = 5, max_iter=100000, random_state=42)\n",
    "lasso_cv_model.fit(X_train_scaler, y_train)\n",
    "y_pred = lasso_cv_model.predict(X_test_scaler)\n",
    "y_train_pred = lasso_cv_model.predict(X_train_scaler)\n",
    "lasso_score_cv = train_val(y_train, y_train_pred, y_test, y_pred, \"lasso_cv\")\n",
    "lasso_score_cv\n",
    "# skorlarda biraz düzelme oldu."
   ]
  },
  {
   "cell_type": "code",
   "execution_count": 34,
   "id": "f931c8c8",
   "metadata": {},
   "outputs": [
    {
     "data": {
      "text/plain": [
       "0.08"
      ]
     },
     "execution_count": 34,
     "metadata": {},
     "output_type": "execute_result"
    }
   ],
   "source": [
    "lasso_cv_model.alpha_\n",
    "# lasso için en iyi alpa değeri."
   ]
  },
  {
   "cell_type": "code",
   "execution_count": 36,
   "id": "ee86de21",
   "metadata": {},
   "outputs": [
    {
     "data": {
      "text/html": [
       "<div>\n",
       "<style scoped>\n",
       "    .dataframe tbody tr th:only-of-type {\n",
       "        vertical-align: middle;\n",
       "    }\n",
       "\n",
       "    .dataframe tbody tr th {\n",
       "        vertical-align: top;\n",
       "    }\n",
       "\n",
       "    .dataframe thead th {\n",
       "        text-align: right;\n",
       "    }\n",
       "</style>\n",
       "<table border=\"1\" class=\"dataframe\">\n",
       "  <thead>\n",
       "    <tr style=\"text-align: right;\">\n",
       "      <th></th>\n",
       "      <th>linear_train</th>\n",
       "      <th>linear_test</th>\n",
       "      <th>ridge_train</th>\n",
       "      <th>ridge_test</th>\n",
       "      <th>ridge_cv_train</th>\n",
       "      <th>ridge_cv_test</th>\n",
       "      <th>lasso_train</th>\n",
       "      <th>lasso_test</th>\n",
       "      <th>lasso_cv_train</th>\n",
       "      <th>lasso_cv_test</th>\n",
       "    </tr>\n",
       "  </thead>\n",
       "  <tbody>\n",
       "    <tr>\n",
       "      <th>R2</th>\n",
       "      <td>0.896645</td>\n",
       "      <td>0.893516</td>\n",
       "      <td>0.896606</td>\n",
       "      <td>0.893535</td>\n",
       "      <td>0.896636</td>\n",
       "      <td>0.893535</td>\n",
       "      <td>0.824970</td>\n",
       "      <td>0.831350</td>\n",
       "      <td>0.896097</td>\n",
       "      <td>0.895089</td>\n",
       "    </tr>\n",
       "    <tr>\n",
       "      <th>mae</th>\n",
       "      <td>1.215619</td>\n",
       "      <td>1.402312</td>\n",
       "      <td>1.216458</td>\n",
       "      <td>1.400372</td>\n",
       "      <td>1.216016</td>\n",
       "      <td>1.401402</td>\n",
       "      <td>1.576285</td>\n",
       "      <td>1.546627</td>\n",
       "      <td>1.217979</td>\n",
       "      <td>1.377568</td>\n",
       "    </tr>\n",
       "    <tr>\n",
       "      <th>mse</th>\n",
       "      <td>2.767891</td>\n",
       "      <td>2.880024</td>\n",
       "      <td>2.768911</td>\n",
       "      <td>2.879523</td>\n",
       "      <td>2.768118</td>\n",
       "      <td>2.879523</td>\n",
       "      <td>4.687354</td>\n",
       "      <td>4.561408</td>\n",
       "      <td>2.782565</td>\n",
       "      <td>2.837496</td>\n",
       "    </tr>\n",
       "    <tr>\n",
       "      <th>rmse</th>\n",
       "      <td>1.663698</td>\n",
       "      <td>1.697063</td>\n",
       "      <td>1.664004</td>\n",
       "      <td>1.696916</td>\n",
       "      <td>1.663766</td>\n",
       "      <td>1.696916</td>\n",
       "      <td>2.165030</td>\n",
       "      <td>2.135745</td>\n",
       "      <td>1.668102</td>\n",
       "      <td>1.684487</td>\n",
       "    </tr>\n",
       "  </tbody>\n",
       "</table>\n",
       "</div>"
      ],
      "text/plain": [
       "      linear_train  linear_test  ridge_train  ridge_test  ridge_cv_train  \\\n",
       "R2        0.896645     0.893516     0.896606    0.893535        0.896636   \n",
       "mae       1.215619     1.402312     1.216458    1.400372        1.216016   \n",
       "mse       2.767891     2.880024     2.768911    2.879523        2.768118   \n",
       "rmse      1.663698     1.697063     1.664004    1.696916        1.663766   \n",
       "\n",
       "      ridge_cv_test  lasso_train  lasso_test  lasso_cv_train  lasso_cv_test  \n",
       "R2         0.893535     0.824970    0.831350        0.896097       0.895089  \n",
       "mae        1.401402     1.576285    1.546627        1.217979       1.377568  \n",
       "mse        2.879523     4.687354    4.561408        2.782565       2.837496  \n",
       "rmse       1.696916     2.165030    2.135745        1.668102       1.684487  "
      ]
     },
     "execution_count": 36,
     "metadata": {},
     "output_type": "execute_result"
    }
   ],
   "source": [
    "pd.concat([ls, ridge_score, ridge_score_cv, lasso_score, lasso_score_cv], axis=1)\n",
    "# en yüksek skorumuz lassocv ile test için."
   ]
  },
  {
   "cell_type": "markdown",
   "id": "4fa9ad4e",
   "metadata": {},
   "source": [
    "### ElasticNet ile yapalım : "
   ]
  },
  {
   "cell_type": "code",
   "execution_count": 37,
   "id": "3dd65916",
   "metadata": {},
   "outputs": [],
   "source": [
    "from sklearn.linear_model import ElasticNet"
   ]
  },
  {
   "cell_type": "code",
   "execution_count": 38,
   "id": "bc62f38e",
   "metadata": {},
   "outputs": [
    {
     "data": {
      "text/html": [
       "<div>\n",
       "<style scoped>\n",
       "    .dataframe tbody tr th:only-of-type {\n",
       "        vertical-align: middle;\n",
       "    }\n",
       "\n",
       "    .dataframe tbody tr th {\n",
       "        vertical-align: top;\n",
       "    }\n",
       "\n",
       "    .dataframe thead th {\n",
       "        text-align: right;\n",
       "    }\n",
       "</style>\n",
       "<table border=\"1\" class=\"dataframe\">\n",
       "  <thead>\n",
       "    <tr style=\"text-align: right;\">\n",
       "      <th></th>\n",
       "      <th>elasticnet_train</th>\n",
       "      <th>elasticnet_test</th>\n",
       "    </tr>\n",
       "  </thead>\n",
       "  <tbody>\n",
       "    <tr>\n",
       "      <th>R2</th>\n",
       "      <td>0.739561</td>\n",
       "      <td>0.739295</td>\n",
       "    </tr>\n",
       "    <tr>\n",
       "      <th>mae</th>\n",
       "      <td>2.008567</td>\n",
       "      <td>2.122104</td>\n",
       "    </tr>\n",
       "    <tr>\n",
       "      <th>mse</th>\n",
       "      <td>6.974628</td>\n",
       "      <td>7.051194</td>\n",
       "    </tr>\n",
       "    <tr>\n",
       "      <th>rmse</th>\n",
       "      <td>2.640952</td>\n",
       "      <td>2.655408</td>\n",
       "    </tr>\n",
       "  </tbody>\n",
       "</table>\n",
       "</div>"
      ],
      "text/plain": [
       "      elasticnet_train  elasticnet_test\n",
       "R2            0.739561         0.739295\n",
       "mae           2.008567         2.122104\n",
       "mse           6.974628         7.051194\n",
       "rmse          2.640952         2.655408"
      ]
     },
     "execution_count": 38,
     "metadata": {},
     "output_type": "execute_result"
    }
   ],
   "source": [
    "elastic_model = ElasticNet()\n",
    "elastic_model.fit(X_train_scaler, y_train)\n",
    "y_pred = elastic_model.predict(X_test_scaler)\n",
    "y_train_pred = elastic_model.predict(X_train_scaler)\n",
    "elastic_score = train_val(y_train, y_train_pred, y_test, y_pred, \"elasticnet\")\n",
    "elastic_score\n",
    "# skorlar düştü."
   ]
  },
  {
   "cell_type": "markdown",
   "id": "c8a64b3a",
   "metadata": {},
   "source": [
    "### GridSearch İle en iyi elastic model parametresi bulalım : "
   ]
  },
  {
   "cell_type": "code",
   "execution_count": 40,
   "id": "3113a98a",
   "metadata": {},
   "outputs": [
    {
     "data": {
      "text/plain": [
       "GridSearchCV(cv=5, estimator=ElasticNet(),\n",
       "             param_grid={'alpha': [0.01, 0.012, 0.2, 0.5, 0.6, 0.7, 1],\n",
       "                         'l1_ratio': [0.1, 0.5, 0.7, 0.9, 0.95, 0.99, 1]},\n",
       "             scoring='neg_root_mean_squared_error')"
      ]
     },
     "execution_count": 40,
     "metadata": {},
     "output_type": "execute_result"
    }
   ],
   "source": [
    "from sklearn.model_selection import GridSearchCV\n",
    "\n",
    "param_grid = {\"alpha\":[0.01, 0.012, 0.2, 0.5, 0.6, 0.7, 1],\n",
    "            \"l1_ratio\":[0.1, 0.5, 0.7, 0.9, 0.95, 0.99, 1]}\n",
    "\n",
    "model = ElasticNet(max_iter=10000, random_state=42)\n",
    "\n",
    "grid_model = GridSearchCV(estimator = elastic_model, param_grid = param_grid, scoring = 'neg_root_mean_squared_error',\n",
    "                         cv =5)\n",
    "\n",
    "grid_model.fit(X_train_scaler, y_train)\n"
   ]
  },
  {
   "cell_type": "code",
   "execution_count": 41,
   "id": "cd7e3222",
   "metadata": {},
   "outputs": [
    {
     "data": {
      "text/plain": [
       "{'alpha': 0.012, 'l1_ratio': 1}"
      ]
     },
     "execution_count": 41,
     "metadata": {},
     "output_type": "execute_result"
    }
   ],
   "source": [
    "grid_model.best_params_"
   ]
  },
  {
   "cell_type": "code",
   "execution_count": 44,
   "id": "b1a4d967",
   "metadata": {},
   "outputs": [
    {
     "data": {
      "text/html": [
       "<div>\n",
       "<style scoped>\n",
       "    .dataframe tbody tr th:only-of-type {\n",
       "        vertical-align: middle;\n",
       "    }\n",
       "\n",
       "    .dataframe tbody tr th {\n",
       "        vertical-align: top;\n",
       "    }\n",
       "\n",
       "    .dataframe thead th {\n",
       "        text-align: right;\n",
       "    }\n",
       "</style>\n",
       "<table border=\"1\" class=\"dataframe\">\n",
       "  <thead>\n",
       "    <tr style=\"text-align: right;\">\n",
       "      <th></th>\n",
       "      <th>grid_elactic_cv_train</th>\n",
       "      <th>grid_elactic_cv_test</th>\n",
       "    </tr>\n",
       "  </thead>\n",
       "  <tbody>\n",
       "    <tr>\n",
       "      <th>R2</th>\n",
       "      <td>0.896632</td>\n",
       "      <td>0.893851</td>\n",
       "    </tr>\n",
       "    <tr>\n",
       "      <th>mae</th>\n",
       "      <td>1.215426</td>\n",
       "      <td>1.397774</td>\n",
       "    </tr>\n",
       "    <tr>\n",
       "      <th>mse</th>\n",
       "      <td>2.768231</td>\n",
       "      <td>2.870977</td>\n",
       "    </tr>\n",
       "    <tr>\n",
       "      <th>rmse</th>\n",
       "      <td>1.663800</td>\n",
       "      <td>1.694396</td>\n",
       "    </tr>\n",
       "  </tbody>\n",
       "</table>\n",
       "</div>"
      ],
      "text/plain": [
       "      grid_elactic_cv_train  grid_elactic_cv_test\n",
       "R2                 0.896632              0.893851\n",
       "mae                1.215426              1.397774\n",
       "mse                2.768231              2.870977\n",
       "rmse               1.663800              1.694396"
      ]
     },
     "execution_count": 44,
     "metadata": {},
     "output_type": "execute_result"
    }
   ],
   "source": [
    "y_pred = grid_model.predict(X_test_scaler)\n",
    "y_train_pred = grid_model.predict(X_train_scaler)\n",
    "el_cv = train_val(y_train, y_train_pred, y_test, y_pred, \"grid_elactic_cv\")\n",
    "el_cv"
   ]
  },
  {
   "cell_type": "code",
   "execution_count": 47,
   "id": "ee8ba5f0",
   "metadata": {},
   "outputs": [
    {
     "data": {
      "text/html": [
       "<div>\n",
       "<style scoped>\n",
       "    .dataframe tbody tr th:only-of-type {\n",
       "        vertical-align: middle;\n",
       "    }\n",
       "\n",
       "    .dataframe tbody tr th {\n",
       "        vertical-align: top;\n",
       "    }\n",
       "\n",
       "    .dataframe thead th {\n",
       "        text-align: right;\n",
       "    }\n",
       "</style>\n",
       "<table border=\"1\" class=\"dataframe\">\n",
       "  <thead>\n",
       "    <tr style=\"text-align: right;\">\n",
       "      <th></th>\n",
       "      <th>R2</th>\n",
       "      <th>mae</th>\n",
       "      <th>mse</th>\n",
       "      <th>rmse</th>\n",
       "    </tr>\n",
       "  </thead>\n",
       "  <tbody>\n",
       "    <tr>\n",
       "      <th>linear_train</th>\n",
       "      <td>0.896645</td>\n",
       "      <td>1.215619</td>\n",
       "      <td>2.767891</td>\n",
       "      <td>1.663698</td>\n",
       "    </tr>\n",
       "    <tr>\n",
       "      <th>linear_test</th>\n",
       "      <td>0.893516</td>\n",
       "      <td>1.402312</td>\n",
       "      <td>2.880024</td>\n",
       "      <td>1.697063</td>\n",
       "    </tr>\n",
       "    <tr>\n",
       "      <th>ridge_train</th>\n",
       "      <td>0.896606</td>\n",
       "      <td>1.216458</td>\n",
       "      <td>2.768911</td>\n",
       "      <td>1.664004</td>\n",
       "    </tr>\n",
       "    <tr>\n",
       "      <th>ridge_test</th>\n",
       "      <td>0.893535</td>\n",
       "      <td>1.400372</td>\n",
       "      <td>2.879523</td>\n",
       "      <td>1.696916</td>\n",
       "    </tr>\n",
       "    <tr>\n",
       "      <th>ridge_cv_train</th>\n",
       "      <td>0.896636</td>\n",
       "      <td>1.216016</td>\n",
       "      <td>2.768118</td>\n",
       "      <td>1.663766</td>\n",
       "    </tr>\n",
       "    <tr>\n",
       "      <th>ridge_cv_test</th>\n",
       "      <td>0.893535</td>\n",
       "      <td>1.401402</td>\n",
       "      <td>2.879523</td>\n",
       "      <td>1.696916</td>\n",
       "    </tr>\n",
       "    <tr>\n",
       "      <th>lasso_train</th>\n",
       "      <td>0.824970</td>\n",
       "      <td>1.576285</td>\n",
       "      <td>4.687354</td>\n",
       "      <td>2.165030</td>\n",
       "    </tr>\n",
       "    <tr>\n",
       "      <th>lasso_test</th>\n",
       "      <td>0.831350</td>\n",
       "      <td>1.546627</td>\n",
       "      <td>4.561408</td>\n",
       "      <td>2.135745</td>\n",
       "    </tr>\n",
       "    <tr>\n",
       "      <th>lasso_cv_train</th>\n",
       "      <td>0.896097</td>\n",
       "      <td>1.217979</td>\n",
       "      <td>2.782565</td>\n",
       "      <td>1.668102</td>\n",
       "    </tr>\n",
       "    <tr>\n",
       "      <th>lasso_cv_test</th>\n",
       "      <td>0.895089</td>\n",
       "      <td>1.377568</td>\n",
       "      <td>2.837496</td>\n",
       "      <td>1.684487</td>\n",
       "    </tr>\n",
       "    <tr>\n",
       "      <th>grid_elactic_cv_train</th>\n",
       "      <td>0.896632</td>\n",
       "      <td>1.215426</td>\n",
       "      <td>2.768231</td>\n",
       "      <td>1.663800</td>\n",
       "    </tr>\n",
       "    <tr>\n",
       "      <th>grid_elactic_cv_test</th>\n",
       "      <td>0.893851</td>\n",
       "      <td>1.397774</td>\n",
       "      <td>2.870977</td>\n",
       "      <td>1.694396</td>\n",
       "    </tr>\n",
       "  </tbody>\n",
       "</table>\n",
       "</div>"
      ],
      "text/plain": [
       "                             R2       mae       mse      rmse\n",
       "linear_train           0.896645  1.215619  2.767891  1.663698\n",
       "linear_test            0.893516  1.402312  2.880024  1.697063\n",
       "ridge_train            0.896606  1.216458  2.768911  1.664004\n",
       "ridge_test             0.893535  1.400372  2.879523  1.696916\n",
       "ridge_cv_train         0.896636  1.216016  2.768118  1.663766\n",
       "ridge_cv_test          0.893535  1.401402  2.879523  1.696916\n",
       "lasso_train            0.824970  1.576285  4.687354  2.165030\n",
       "lasso_test             0.831350  1.546627  4.561408  2.135745\n",
       "lasso_cv_train         0.896097  1.217979  2.782565  1.668102\n",
       "lasso_cv_test          0.895089  1.377568  2.837496  1.684487\n",
       "grid_elactic_cv_train  0.896632  1.215426  2.768231  1.663800\n",
       "grid_elactic_cv_test   0.893851  1.397774  2.870977  1.694396"
      ]
     },
     "execution_count": 47,
     "metadata": {},
     "output_type": "execute_result"
    }
   ],
   "source": [
    "pd.concat([ls, ridge_score, ridge_score_cv, lasso_score, lasso_score_cv, el_cv], axis=1).T"
   ]
  },
  {
   "cell_type": "markdown",
   "id": "770d7a41",
   "metadata": {},
   "source": [
    "### Final Model : "
   ]
  },
  {
   "cell_type": "code",
   "execution_count": 48,
   "id": "27c18c1b",
   "metadata": {},
   "outputs": [
    {
     "data": {
      "text/plain": [
       "0.08"
      ]
     },
     "execution_count": 48,
     "metadata": {},
     "output_type": "execute_result"
    }
   ],
   "source": [
    "lasso_cv_model.alpha_"
   ]
  },
  {
   "cell_type": "code",
   "execution_count": 49,
   "id": "53c03742",
   "metadata": {},
   "outputs": [
    {
     "data": {
      "text/html": [
       "<div>\n",
       "<style scoped>\n",
       "    .dataframe tbody tr th:only-of-type {\n",
       "        vertical-align: middle;\n",
       "    }\n",
       "\n",
       "    .dataframe tbody tr th {\n",
       "        vertical-align: top;\n",
       "    }\n",
       "\n",
       "    .dataframe thead th {\n",
       "        text-align: right;\n",
       "    }\n",
       "</style>\n",
       "<table border=\"1\" class=\"dataframe\">\n",
       "  <thead>\n",
       "    <tr style=\"text-align: right;\">\n",
       "      <th></th>\n",
       "      <th>lasso_train</th>\n",
       "      <th>lasso_test</th>\n",
       "    </tr>\n",
       "  </thead>\n",
       "  <tbody>\n",
       "    <tr>\n",
       "      <th>R2</th>\n",
       "      <td>0.896097</td>\n",
       "      <td>0.895089</td>\n",
       "    </tr>\n",
       "    <tr>\n",
       "      <th>mae</th>\n",
       "      <td>1.217979</td>\n",
       "      <td>1.377568</td>\n",
       "    </tr>\n",
       "    <tr>\n",
       "      <th>mse</th>\n",
       "      <td>2.782565</td>\n",
       "      <td>2.837496</td>\n",
       "    </tr>\n",
       "    <tr>\n",
       "      <th>rmse</th>\n",
       "      <td>1.668102</td>\n",
       "      <td>1.684487</td>\n",
       "    </tr>\n",
       "  </tbody>\n",
       "</table>\n",
       "</div>"
      ],
      "text/plain": [
       "      lasso_train  lasso_test\n",
       "R2       0.896097    0.895089\n",
       "mae      1.217979    1.377568\n",
       "mse      2.782565    2.837496\n",
       "rmse     1.668102    1.684487"
      ]
     },
     "execution_count": 49,
     "metadata": {},
     "output_type": "execute_result"
    }
   ],
   "source": [
    "final_model = Lasso(alpha = 0.08, max_iter=10000, random_state=42)\n",
    "final_model.fit(X_train_scaler, y_train)\n",
    "y_pred = final_model.predict(X_test_scaler)\n",
    "y_train_pred = final_model.predict(X_train_scaler)\n",
    "final_score = train_val(y_train, y_train_pred, y_test, y_pred, \"lasso\")\n",
    "final_score"
   ]
  },
  {
   "cell_type": "markdown",
   "id": "9fbaea5c",
   "metadata": {},
   "source": [
    "### İstenirse Ridge, lasso veya Elastic için Grid SearchtCV direk en iyi değeri seçeriz : \n",
    "\n",
    "Ama geliştiriciler RidgeCV ve LassoCV ile bu işlemi direk yapmışlar."
   ]
  },
  {
   "cell_type": "code",
   "execution_count": 50,
   "id": "c52258b6",
   "metadata": {},
   "outputs": [
    {
     "data": {
      "text/plain": [
       "GridSearchCV(cv=10, estimator=ElasticNet(),\n",
       "             param_grid={'alpha': array([ 0.01,  0.02,  0.03,  0.04,  0.05,  0.06,  0.07,  0.08,  0.09,\n",
       "        0.1 ,  0.11,  0.12,  0.13,  0.14,  0.15,  0.16,  0.17,  0.18,\n",
       "        0.19,  0.2 ,  0.21,  0.22,  0.23,  0.24,  0.25,  0.26,  0.27,\n",
       "        0.28,  0.29,  0.3 ,  0.31,  0.32,  0.33,  0.34,  0.35,  0.36,\n",
       "        0.37,  0.38,  0.39,  0.4 ,  0.41,  0.42,  0.43,  0.44,  0.45,\n",
       "        0.46,  0.47,  0.48,  0.49,  0.5 ,  0.51,  0.52,  0.53,  0.54,\n",
       "        0.55,  0.56,  0.57,  0...\n",
       "        9.37,  9.38,  9.39,  9.4 ,  9.41,  9.42,  9.43,  9.44,  9.45,\n",
       "        9.46,  9.47,  9.48,  9.49,  9.5 ,  9.51,  9.52,  9.53,  9.54,\n",
       "        9.55,  9.56,  9.57,  9.58,  9.59,  9.6 ,  9.61,  9.62,  9.63,\n",
       "        9.64,  9.65,  9.66,  9.67,  9.68,  9.69,  9.7 ,  9.71,  9.72,\n",
       "        9.73,  9.74,  9.75,  9.76,  9.77,  9.78,  9.79,  9.8 ,  9.81,\n",
       "        9.82,  9.83,  9.84,  9.85,  9.86,  9.87,  9.88,  9.89,  9.9 ,\n",
       "        9.91,  9.92,  9.93,  9.94,  9.95,  9.96,  9.97,  9.98,  9.99,\n",
       "       10.  ])},\n",
       "             scoring='neg_root_mean_squared_error')"
      ]
     },
     "execution_count": 50,
     "metadata": {},
     "output_type": "execute_result"
    }
   ],
   "source": [
    "param_grid = {\"alpha\": alpa_space}\n",
    "\n",
    "model = Lasso(max_iter=10000, random_state=42)\n",
    "\n",
    "grid_model_lasso = GridSearchCV(estimator = elastic_model, param_grid = param_grid, scoring = 'neg_root_mean_squared_error',\n",
    "                         cv = 10)\n",
    "\n",
    "grid_model_lasso.fit(X_train_scaler, y_train)\n"
   ]
  },
  {
   "cell_type": "code",
   "execution_count": 51,
   "id": "9ef23668",
   "metadata": {},
   "outputs": [
    {
     "data": {
      "text/plain": [
       "{'alpha': 0.01}"
      ]
     },
     "execution_count": 51,
     "metadata": {},
     "output_type": "execute_result"
    }
   ],
   "source": [
    "grid_model_lasso.best_params_"
   ]
  },
  {
   "cell_type": "code",
   "execution_count": 52,
   "id": "cf765d01",
   "metadata": {},
   "outputs": [
    {
     "data": {
      "text/html": [
       "<div>\n",
       "<style scoped>\n",
       "    .dataframe tbody tr th:only-of-type {\n",
       "        vertical-align: middle;\n",
       "    }\n",
       "\n",
       "    .dataframe tbody tr th {\n",
       "        vertical-align: top;\n",
       "    }\n",
       "\n",
       "    .dataframe thead th {\n",
       "        text-align: right;\n",
       "    }\n",
       "</style>\n",
       "<table border=\"1\" class=\"dataframe\">\n",
       "  <thead>\n",
       "    <tr style=\"text-align: right;\">\n",
       "      <th></th>\n",
       "      <th>grid_ls_train</th>\n",
       "      <th>grid_ls_test</th>\n",
       "    </tr>\n",
       "  </thead>\n",
       "  <tbody>\n",
       "    <tr>\n",
       "      <th>R2</th>\n",
       "      <td>0.896610</td>\n",
       "      <td>0.893669</td>\n",
       "    </tr>\n",
       "    <tr>\n",
       "      <th>mae</th>\n",
       "      <td>1.216171</td>\n",
       "      <td>1.398973</td>\n",
       "    </tr>\n",
       "    <tr>\n",
       "      <th>mse</th>\n",
       "      <td>2.768805</td>\n",
       "      <td>2.875903</td>\n",
       "    </tr>\n",
       "    <tr>\n",
       "      <th>rmse</th>\n",
       "      <td>1.663973</td>\n",
       "      <td>1.695849</td>\n",
       "    </tr>\n",
       "  </tbody>\n",
       "</table>\n",
       "</div>"
      ],
      "text/plain": [
       "      grid_ls_train  grid_ls_test\n",
       "R2         0.896610      0.893669\n",
       "mae        1.216171      1.398973\n",
       "mse        2.768805      2.875903\n",
       "rmse       1.663973      1.695849"
      ]
     },
     "execution_count": 52,
     "metadata": {},
     "output_type": "execute_result"
    }
   ],
   "source": [
    "y_pred = grid_model_lasso.predict(X_test_scaler)\n",
    "y_train_pred = grid_model_lasso.predict(X_train_scaler)\n",
    "grid_score = train_val(y_train, y_train_pred, y_test, y_pred, \"grid_ls\")\n",
    "grid_score"
   ]
  },
  {
   "cell_type": "code",
   "execution_count": 56,
   "id": "d20c9035",
   "metadata": {},
   "outputs": [
    {
     "data": {
      "text/html": [
       "<div>\n",
       "<style scoped>\n",
       "    .dataframe tbody tr th:only-of-type {\n",
       "        vertical-align: middle;\n",
       "    }\n",
       "\n",
       "    .dataframe tbody tr th {\n",
       "        vertical-align: top;\n",
       "    }\n",
       "\n",
       "    .dataframe thead th {\n",
       "        text-align: right;\n",
       "    }\n",
       "</style>\n",
       "<table border=\"1\" class=\"dataframe\">\n",
       "  <thead>\n",
       "    <tr style=\"text-align: right;\">\n",
       "      <th></th>\n",
       "      <th>lasso_train</th>\n",
       "      <th>lasso_test</th>\n",
       "      <th>grid_ls_train</th>\n",
       "      <th>grid_ls_test</th>\n",
       "    </tr>\n",
       "  </thead>\n",
       "  <tbody>\n",
       "    <tr>\n",
       "      <th>R2</th>\n",
       "      <td>0.896097</td>\n",
       "      <td>0.895089</td>\n",
       "      <td>0.896610</td>\n",
       "      <td>0.893669</td>\n",
       "    </tr>\n",
       "    <tr>\n",
       "      <th>mae</th>\n",
       "      <td>1.217979</td>\n",
       "      <td>1.377568</td>\n",
       "      <td>1.216171</td>\n",
       "      <td>1.398973</td>\n",
       "    </tr>\n",
       "    <tr>\n",
       "      <th>mse</th>\n",
       "      <td>2.782565</td>\n",
       "      <td>2.837496</td>\n",
       "      <td>2.768805</td>\n",
       "      <td>2.875903</td>\n",
       "    </tr>\n",
       "    <tr>\n",
       "      <th>rmse</th>\n",
       "      <td>1.668102</td>\n",
       "      <td>1.684487</td>\n",
       "      <td>1.663973</td>\n",
       "      <td>1.695849</td>\n",
       "    </tr>\n",
       "  </tbody>\n",
       "</table>\n",
       "</div>"
      ],
      "text/plain": [
       "      lasso_train  lasso_test  grid_ls_train  grid_ls_test\n",
       "R2       0.896097    0.895089       0.896610      0.893669\n",
       "mae      1.217979    1.377568       1.216171      1.398973\n",
       "mse      2.782565    2.837496       2.768805      2.875903\n",
       "rmse     1.668102    1.684487       1.663973      1.695849"
      ]
     },
     "execution_count": 56,
     "metadata": {},
     "output_type": "execute_result"
    }
   ],
   "source": [
    "pd.concat([final_score, grid_score], axis=1)\n",
    "# lasso cv ile grid searc ile bulduğum skordan biraz daha iyi buldu."
   ]
  },
  {
   "cell_type": "code",
   "execution_count": null,
   "id": "df9d4b72",
   "metadata": {},
   "outputs": [],
   "source": []
  }
 ],
 "metadata": {
  "kernelspec": {
   "display_name": "Python 3 (ipykernel)",
   "language": "python",
   "name": "python3"
  },
  "language_info": {
   "codemirror_mode": {
    "name": "ipython",
    "version": 3
   },
   "file_extension": ".py",
   "mimetype": "text/x-python",
   "name": "python",
   "nbconvert_exporter": "python",
   "pygments_lexer": "ipython3",
   "version": "3.9.7"
  }
 },
 "nbformat": 4,
 "nbformat_minor": 5
}
